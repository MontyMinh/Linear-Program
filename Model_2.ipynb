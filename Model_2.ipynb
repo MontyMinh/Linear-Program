{
 "cells": [
  {
   "cell_type": "code",
   "execution_count": 1,
   "id": "77420174",
   "metadata": {},
   "outputs": [],
   "source": [
    "from tools import *"
   ]
  },
  {
   "cell_type": "code",
   "execution_count": 10,
   "id": "269cbaa7",
   "metadata": {},
   "outputs": [],
   "source": [
    "import import_ipynb\n",
    "from Model_1 import *"
   ]
  },
  {
   "cell_type": "markdown",
   "id": "3c985302",
   "metadata": {},
   "source": [
    "### Model 2a: Minimize Cost Constrained on Customer's Demand and Factory Capacity (Trivial Case)\n",
    "\n",
    "The trivial case of this model is when the capacity is so large that the program simplifies to Model 1.\n",
    "\n",
    "#### Input to the Model: \n",
    "\n",
    "1. Number of factories and customers\n",
    "2. Cost vector -> Objective vector\n",
    "3. Demands vector\n",
    "4. Factory Capacity"
   ]
  },
  {
   "cell_type": "code",
   "execution_count": 11,
   "id": "a1cd9fc2",
   "metadata": {},
   "outputs": [],
   "source": [
    "no_I, no_J = 20, 30 # Number of factories, number of customers\n",
    "\n",
    "cij = np.random.rand(no_I, no_J) # Cost vector\n",
    "wj = np.random.rand(no_J) # Demands vector\n",
    "ki = np.random.rand(no_I) + 1000 # Factory Capacity"
   ]
  },
  {
   "cell_type": "code",
   "execution_count": 17,
   "id": "9f36c3bd",
   "metadata": {},
   "outputs": [],
   "source": [
    "Wij = np.hstack([np.eye(no_J)]*no_I) # Demand Constraint Matrix\n",
    "Kij = np.repeat(np.eye(no_I), repeats = no_J, axis = 1) # Capacity Constraint Matrix\n",
    "\n",
    "c = cij.flatten()\n",
    "\n",
    "## Standard form of our model\n",
    "\n",
    "# Upper Bound\n",
    "A_ub = np.vstack([-Wij, Kij])\n",
    "b_ub = np.hstack([-wj, ki])\n",
    "\n",
    "prog_ub = linprog(c, A_ub = A_ub, b_ub = b_ub) # Bigger than or equal constraints\n",
    "\n",
    "# Equality\n",
    "A_ub = Kij\n",
    "b_ub = ki\n",
    "\n",
    "A_eq = -Wij\n",
    "b_eq = -wj\n",
    "\n",
    "prog_eq = linprog(c, A_ub = A_ub, b_ub = b_ub, \n",
    "                  A_eq = A_eq, b_eq = b_eq) # Equality constraints"
   ]
  },
  {
   "cell_type": "code",
   "execution_count": 13,
   "id": "26a31275",
   "metadata": {},
   "outputs": [
    {
     "name": "stdout",
     "output_type": "stream",
     "text": [
      "CPU times: user 29.1 ms, sys: 11.6 ms, total: 40.7 ms\n",
      "Wall time: 10.3 ms\n"
     ]
    }
   ],
   "source": [
    "%time prog_ub = linprog(c, A_ub = A_ub, b_ub = b_ub) # ≥ Case"
   ]
  },
  {
   "cell_type": "code",
   "execution_count": 14,
   "id": "0c7008e3",
   "metadata": {},
   "outputs": [
    {
     "name": "stdout",
     "output_type": "stream",
     "text": [
      "CPU times: user 47 ms, sys: 66.8 ms, total: 114 ms\n",
      "Wall time: 26 ms\n"
     ]
    }
   ],
   "source": [
    "%time prog_eq = linprog(c, A_ub = A_ub, b_ub = b_ub, A_eq = A_eq, b_eq = b_eq) # = Case"
   ]
  },
  {
   "cell_type": "code",
   "execution_count": 18,
   "id": "64a41296",
   "metadata": {},
   "outputs": [
    {
     "data": {
      "text/plain": [
       "1.15105559190363e-08"
      ]
     },
     "execution_count": 18,
     "metadata": {},
     "output_type": "execute_result"
    }
   ],
   "source": [
    "np.sum(np.abs(prog_ub.x - prog_eq.x)) # Check that the ≥ case and the = case is identical"
   ]
  },
  {
   "cell_type": "code",
   "execution_count": 19,
   "id": "4bb1d7d4",
   "metadata": {
    "scrolled": true
   },
   "outputs": [],
   "source": [
    "# Check that the trivial case is the same as model 1\n",
    "aae(prog_ub.x, optimize_logistic_1(no_I, no_J, cij, wj).x)"
   ]
  },
  {
   "cell_type": "markdown",
   "id": "834cbe11",
   "metadata": {},
   "source": [
    "### Model 2b: Minimize Cost Constrained on Customer's Demand and Factory Capacity (Non-Trivial Case)\n",
    "\n",
    "Non-trivial case means that the capacity of each factory cannot cover the volume to all the customers. This also means that we have to check that ∑capacity ≥ ∑demand.\n",
    "\n",
    "#### Input to the Model: \n",
    "\n",
    "1. Number of factories and customers\n",
    "2. Cost vector -> Objective vector\n",
    "3. Demands vector\n",
    "4. Factory Capacity"
   ]
  },
  {
   "cell_type": "code",
   "execution_count": 34,
   "id": "e435136e",
   "metadata": {},
   "outputs": [],
   "source": [
    "no_I, no_J = 20, 30 # Number of factories, number of customers\n",
    "\n",
    "cij = np.random.rand(no_I, no_J) # Cost vector\n",
    "wj = np.random.rand(no_J) # Demands vector\n",
    "ki = np.random.rand(no_I) # Factory Capacity\n",
    "\n",
    "while np.sum(wj) >= np.sum(ki):\n",
    "    wj = np.random.rand(no_J) # Redo Demands vector\n",
    "    ki = np.random.rand(no_I) # Redo Factory Capacity"
   ]
  },
  {
   "cell_type": "code",
   "execution_count": 35,
   "id": "c1d51951",
   "metadata": {},
   "outputs": [],
   "source": [
    "Wij = np.hstack([np.eye(no_J)]*no_I) # Demand Constraint Matrix\n",
    "Kij = np.repeat(np.eye(no_I), repeats = no_J, axis = 1) # Capacity Constraint Matrix\n",
    "\n",
    "c = cij.flatten()\n",
    "\n",
    "## Standard form of our model\n",
    "\n",
    "# Upper Bound\n",
    "A_ub = np.vstack([-Wij, Kij])\n",
    "b_ub = np.hstack([-wj, ki])\n",
    "\n",
    "prog_ub = linprog(c, A_ub = A_ub, b_ub = b_ub) # Bigger than or equal constraints\n",
    "\n",
    "# Equality\n",
    "A_ub = Kij\n",
    "b_ub = ki\n",
    "\n",
    "A_eq = -Wij\n",
    "b_eq = -wj\n",
    "\n",
    "prog_eq = linprog(c, A_ub = A_ub, b_ub = b_ub, \n",
    "                  A_eq = A_eq, b_eq = b_eq) # Equality constraints"
   ]
  },
  {
   "cell_type": "code",
   "execution_count": 36,
   "id": "28ed628e",
   "metadata": {},
   "outputs": [
    {
     "data": {
      "text/plain": [
       "1.2124357853149463e-09"
      ]
     },
     "execution_count": 36,
     "metadata": {},
     "output_type": "execute_result"
    }
   ],
   "source": [
    "np.sum(np.abs(prog_ub.x - prog_eq.x)) # Check that the ≥ case and the = case is identical"
   ]
  },
  {
   "cell_type": "code",
   "execution_count": 37,
   "id": "254a9357",
   "metadata": {
    "scrolled": true
   },
   "outputs": [
    {
     "data": {
      "text/plain": [
       "False"
      ]
     },
     "execution_count": 37,
     "metadata": {},
     "output_type": "execute_result"
    }
   ],
   "source": [
    "# Check that this case is non-trivial\n",
    "np.all(np.isclose(prog_ub.x, optimize_logistic_1(no_I, no_J, cij, wj).x))"
   ]
  },
  {
   "cell_type": "markdown",
   "id": "02b39b54",
   "metadata": {},
   "source": [
    "#### Modular Code"
   ]
  },
  {
   "cell_type": "code",
   "execution_count": null,
   "id": "ee76374f",
   "metadata": {},
   "outputs": [],
   "source": [
    "def optimize_logistic_2(no_I, no_J, cij, wj, ki):\n",
    "    \n",
    "    # Check if the capacity constraints is trivial, solve using model 1\n",
    "    if np.all(ki >= np.sum(wj)):\n",
    "        print('Capacity Constraints: Trivial')\n",
    "        prog = optimize_logistic_1(no_I, no_J, cij, wj)\n",
    "        \n",
    "    else:\n",
    "        print('Capacity Constraints: Non-Trivial')\n",
    "        Wij = np.hstack([np.eye(no_J)]*no_I) # Demand Constraint Matrix\n",
    "        Kij = np.repeat(np.eye(no_I), repeats = no_J, axis = 1) # Capacity Constraint Matrix\n",
    "\n",
    "        c = cij.flatten()\n",
    "\n",
    "        ## Standard form of our model\n",
    "\n",
    "        # Upper Bound\n",
    "        A_ub = np.vstack([-Wij, Kij])\n",
    "        b_ub = np.hstack([-wj, ki])\n",
    "\n",
    "        prog = linprog(c, A_ub = A_ub, b_ub = b_ub) # Bigger than or equal constraints\n",
    "    \n",
    "    return prog"
   ]
  }
 ],
 "metadata": {
  "kernelspec": {
   "display_name": "Python 3",
   "language": "python",
   "name": "python3"
  },
  "language_info": {
   "codemirror_mode": {
    "name": "ipython",
    "version": 3
   },
   "file_extension": ".py",
   "mimetype": "text/x-python",
   "name": "python",
   "nbconvert_exporter": "python",
   "pygments_lexer": "ipython3",
   "version": "3.8.3"
  }
 },
 "nbformat": 4,
 "nbformat_minor": 5
}
