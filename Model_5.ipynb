{
 "cells": [
  {
   "cell_type": "code",
   "execution_count": 919,
   "id": "b46ff7d3",
   "metadata": {},
   "outputs": [],
   "source": [
    "from tools import *"
   ]
  },
  {
   "cell_type": "code",
   "execution_count": 921,
   "id": "bbf5db99",
   "metadata": {},
   "outputs": [],
   "source": [
    "import import_ipynb\n",
    "from Model_4 import *"
   ]
  },
  {
   "cell_type": "markdown",
   "id": "d854d0db",
   "metadata": {},
   "source": [
    "### Model 5a: Minimize Inbound and Outbound Logistics Constrained on Customer's Demand and Factory Capacity and Sufficient Supply (Multiple Ports) (Lossless Production) (Multiple Products) (Identical Production)"
   ]
  },
  {
   "cell_type": "raw",
   "id": "3819d5e1",
   "metadata": {},
   "source": [
    "Now that we are incorporating multiple products, we are going to group products by factories group as below. This is nice because it takes the stress off the columns. This also means that certain coefficients vectors are gonna need additional copies. Identical Production means the production of one unit each product takes the same amount of the factory capacity.\n",
    "\n",
    "For production efficiency, we have four categories which we will explore in submodels:\n",
    "\n",
    "1. Lossless Production\n",
    "2. Lossy Production - by factory\n",
    "3. Lossy Production - by products\n",
    "4. Lossy Production - by factory and products"
   ]
  },
  {
   "cell_type": "markdown",
   "id": "7a77f8f6",
   "metadata": {},
   "source": [
    "#### Input to the Model: \n",
    "\n",
    "1. Number of factories and customers and ports and products\n",
    "2. Outbound cost (times the number of products)\n",
    "3. Inbound cost (each port to each factory) (times the number of products)\n",
    "4. Demands (times the number of products)\n",
    "5. Factory Capacity (Identical)\n",
    "6. Loss Percentage / Efficiency (None)"
   ]
  },
  {
   "cell_type": "code",
   "execution_count": 1153,
   "id": "391c2fac",
   "metadata": {},
   "outputs": [],
   "source": [
    "no_I, no_J, no_K, no_P = 4, 5, 3, 2 # Number of factories, number of customers, number of ports\n",
    "\n",
    "ibik = np.random.rand(no_P, no_I, no_K) # Inbound Cost\n",
    "obij = np.random.rand(no_P, no_I, no_J) # Outbound Cost\n",
    "wj = np.random.rand(no_P, no_J) # Demands vector\n",
    "ki = np.random.rand(no_I) # Factory Capacity\n",
    "#ei = np.random.rand(no_I) # Efficiency\n",
    "ei = np.ones((no_P, no_I)) # Perfect Efficiency\n",
    "\n",
    "while np.sum(wj) >= np.sum(ki):\n",
    "    wj = np.random.rand(no_P, no_J) # Redo Demands vector\n",
    "    ki = np.random.rand(no_I) # Redo Factory Capacity"
   ]
  },
  {
   "cell_type": "raw",
   "id": "0fa419fa",
   "metadata": {},
   "source": [
    "Objective Vector\n",
    "\n",
    "      Ports      Customers \n",
    "     0 1 2 3 || 0 1 2 3 4 5\n",
    "     -------    ------------\n",
    "     1 2 1 2 || 5 2 3 4 6 7 } Factory 0 } Product 0\n",
    "     1 1 3 5 || 1 1 6 3 2 4 } Factory 1 } Product 0\n",
    "c := -------    -----------   ---------   ---------\n",
    "     4 3 2 3 || 6 4 5 2 3 1 } Factory 0 } Product 1\n",
    "     5 1 2 3 || 1 2 3 3 2 6 } Factory 1 } Product 1"
   ]
  },
  {
   "cell_type": "code",
   "execution_count": 1174,
   "id": "a302db58",
   "metadata": {},
   "outputs": [],
   "source": [
    "def generate_objective_vector(no_I, no_J, no_K, no_P, ibik, obij):\n",
    "    c = np.concatenate([ibik.reshape(no_P, no_I, no_K), \n",
    "                        obij.reshape(no_P, no_I, no_J)], axis = 2).flatten()\n",
    "    return c"
   ]
  },
  {
   "cell_type": "raw",
   "id": "db0b7ec1",
   "metadata": {},
   "source": [
    "Demand Matrix.\n",
    "\n",
    "Below is one vector\n",
    "\n",
    "     Ports   Customers \n",
    "     0 1 2 || 0 1 2 3\n",
    "     -------    -------\n",
    "     0 0 0 || 1 0 0 0 } Factory 0 } Product 0\n",
    "     0 0 0 || 1 0 0 0 } Factory 1 } Product 0\n",
    "c := -----    -------   ---------   ---------\n",
    "     0 0 0 || 0 0 0 0 } Factory 0 } Product 1\n",
    "     0 0 0 || 0 0 0 0 } Factory 1 } Product 1\n",
    "     \n",
    "The next one\n",
    "\n",
    "     Ports   Customers \n",
    "     0 1 2 || 0 1 2 3\n",
    "     -------    -------\n",
    "     0 0 0 || 0 1 0 0 } Factory 0 } Product 0\n",
    "     0 0 0 || 0 1 0 0 } Factory 1 } Product 0\n",
    "c := -----    -------   ---------   ---------\n",
    "     0 0 0 || 0 0 0 0 } Factory 0 } Product 1\n",
    "     0 0 0 || 0 0 0 0 } Factory 1 } Product 1\n",
    "     \n",
    "[Y O]\n",
    "[O Y]\n",
    "                                                                       Customer  Product\n",
    "0 0 0 | 1 0 0 0 | 0 0 0 | 1 0 0 0 || 0 0 0 | 0 0 0 0 | 0 0 0 | 0 0 0 0 }   0    }   0\n",
    "0 0 0 | 0 1 0 0 | 0 0 0 | 0 1 0 0 || 0 0 0 | 0 0 0 0 | 0 0 0 | 0 0 0 0 }   1    }   0\n",
    "0 0 0 | 0 0 1 0 | 0 0 0 | 0 0 1 0 || 0 0 0 | 0 0 0 0 | 0 0 0 | 0 0 0 0 }   2    }   0\n",
    "0 0 0 | 0 0 0 1 | 0 0 0 | 0 0 0 1 || 0 0 0 | 0 0 0 0 | 0 0 0 | 0 0 0 0 }   3    }   0\n",
    "0 0 0 | 0 0 0 0 | 0 0 0 | 0 0 0 0 || 0 0 0 | 1 0 0 0 | 0 0 0 | 1 0 0 0 }   0    }   1\n",
    "0 0 0 | 0 0 0 0 | 0 0 0 | 0 0 0 0 || 0 0 0 | 0 1 0 0 | 0 0 0 | 0 1 0 0 }   1    }   1\n",
    "0 0 0 | 0 0 0 0 | 0 0 0 | 0 0 0 0 || 0 0 0 | 0 0 1 0 | 0 0 0 | 0 0 1 0 }   2    }   1\n",
    "0 0 0 | 0 0 0 0 | 0 0 0 | 0 0 0 0 || 0 0 0 | 0 0 0 1 | 0 0 0 | 0 0 0 1 }   3    }   1\n",
    "\n",
    "To do this, I need to first create an original block, then put them together using block-diag"
   ]
  },
  {
   "cell_type": "code",
   "execution_count": 1175,
   "id": "c0e2e187",
   "metadata": {},
   "outputs": [],
   "source": [
    "from scipy.linalg import block_diag"
   ]
  },
  {
   "cell_type": "markdown",
   "id": "3f0c0eb0",
   "metadata": {},
   "source": [
    "I have a feeling that this matrix will look exactly like |I| * |P| factories, no it's not you gotta create the base matrix and shift it over. so like block diag stuff"
   ]
  },
  {
   "cell_type": "code",
   "execution_count": 1176,
   "id": "19c174b4",
   "metadata": {},
   "outputs": [],
   "source": [
    "def generate_demand_matrix(no_I, no_J, no_K, no_P):\n",
    "    \n",
    "    sub_block = np.tile(np.hstack([np.zeros((no_J, no_K)), np.eye(no_J)]), reps = no_I)\n",
    "    \n",
    "    Wijk = block_diag(*[sub_block]*no_P)\n",
    "    \n",
    "    return Wijk"
   ]
  },
  {
   "cell_type": "raw",
   "id": "14fdac3b",
   "metadata": {},
   "source": [
    "Capacity Matrix\n",
    "\n",
    "Below is one vector\n",
    "\n",
    "      Ports      Customers \n",
    "     0 1 2 3 || 0 1 2 3 4 5\n",
    "     -------    ------------\n",
    "     0 0 0 0 || 1 1 1 1 1 1 } Factory 0 } Product 0\n",
    "     0 0 0 0 || 0 0 0 0 0 0 } Factory 1 } Product 0\n",
    "c := -------    -----------   ---------   ---------\n",
    "     0 0 0 0 || 1 1 1 1 1 1 } Factory 0 } Product 1\n",
    "     0 0 0 0 || 0 0 0 0 0 0 } Factory 1 } Product 1\n",
    "     \n",
    "The next one\n",
    "\n",
    "      Ports      Customers \n",
    "     0 1 2 3 || 0 1 2 3 4 5\n",
    "     -------    ------------\n",
    "     0 0 0 0 || 0 0 0 0 0 0 } Factory 0 } Product 0\n",
    "     0 0 0 0 || 1 1 1 1 1 1 } Factory 1 } Product 0\n",
    "c := -------    -----------   ---------   ---------\n",
    "     0 0 0 0 || 0 0 0 0 0 0 } Factory 0 } Product 1\n",
    "     0 0 0 0 || 1 1 1 1 1 1 } Factory 1 } Product 1"
   ]
  },
  {
   "cell_type": "code",
   "execution_count": 1079,
   "id": "742d5d6a",
   "metadata": {
    "collapsed": true
   },
   "outputs": [
    {
     "ename": "SyntaxError",
     "evalue": "invalid syntax (<ipython-input-1079-f2e9395a5b41>, line 1)",
     "output_type": "error",
     "traceback": [
      "\u001b[0;36m  File \u001b[0;32m\"<ipython-input-1079-f2e9395a5b41>\"\u001b[0;36m, line \u001b[0;32m1\u001b[0m\n\u001b[0;31m    0 0 0 0| 1 1 1 1 1 1 | 0 0 0 0 | 0 0 0 0 0 0 | 0 0 0 0 | 1 1 1 1 1 1 | 0 0 0 0 | 0 0 0 0 0 0\u001b[0m\n\u001b[0m      ^\u001b[0m\n\u001b[0;31mSyntaxError\u001b[0m\u001b[0;31m:\u001b[0m invalid syntax\n"
     ]
    }
   ],
   "source": [
    "0 0 0 0| 1 1 1 1 1 1 | 0 0 0 0 | 0 0 0 0 0 0 || 0 0 0 0 | 1 1 1 1 1 1 | 0 0 0 0 | 0 0 0 0 0 0\n",
    "0 0 0 0| 0 0 0 0 0 0 | 0 0 0 0 | 1 1 1 1 1 1 || 0 0 0 0 | 0 0 0 0 0 0 | 0 0 0 0 | 1 1 1 1 1 1"
   ]
  },
  {
   "cell_type": "markdown",
   "id": "1dd5d7fe",
   "metadata": {},
   "source": [
    "It looks like the capacity matrix is just like before but now you tile the individual matrix |P| times"
   ]
  },
  {
   "cell_type": "code",
   "execution_count": 1177,
   "id": "1ee98a7c",
   "metadata": {},
   "outputs": [],
   "source": [
    "def generate_capacity_matrix(no_I, no_J, no_K, no_P):\n",
    "    \n",
    "    factory_block_list = []\n",
    "\n",
    "    port_block = np.zeros((no_I, no_K))\n",
    "\n",
    "    for i in range(no_I):\n",
    "        customer_column = np.zeros((no_I, 1))\n",
    "        customer_column[i] = 1\n",
    "        customer_block = np.repeat(customer_column, repeats = no_J, axis = 1)\n",
    "        factory_block_list.append(np.hstack([port_block, customer_block]))\n",
    "\n",
    "    Ki = np.tile(np.concatenate(factory_block_list, axis = 1), reps = no_P)\n",
    "    \n",
    "    return Ki"
   ]
  },
  {
   "cell_type": "code",
   "execution_count": 1178,
   "id": "7099c544",
   "metadata": {},
   "outputs": [],
   "source": [
    "## Assume non-trivial\n",
    "\n",
    "Wijk = generate_demand_matrix(no_I, no_J, no_K, no_P) # Demand Constraint Matrix\n",
    "Ki = generate_capacity_matrix(no_I, no_J, no_K, no_P) # Capacity Constraint Matrix"
   ]
  },
  {
   "cell_type": "raw",
   "id": "6c53967f",
   "metadata": {},
   "source": [
    "For the Sufficient Supply matrix, we would have |I| * (|J| + |K|) columns (one for each variable) and |I| rows (one for each factory). The equation governs this matrix is \n",
    "\n",
    "Out - In <= 0, you cannot get out more than you put in.\n",
    "\n",
    "         Port        Factory         Port        Factory\n",
    "                 #0            |             #1  \n",
    "      0  1  2  3 | 0 1 2 3 4 5 |  0  1  2  3 | 0 1 2 3 4 5\n",
    "      ----------   -----------    ----------   -----------\n",
    "S := -1 -1 -1 -1 | 1 1 1 1 1 1 |  0  0  0  0 | 0 0 0 0 0 0 } Factory 0 } Product 0\n",
    "      0  0  0  0 | 0 0 0 0 0 0 | -1 -1 -1 -1 | 1 1 1 1 1 1 } Factory 1 } Product 0\n",
    "S := -1 -1 -1 -1 | 1 1 1 1 1 1 |  0  0  0  0 | 0 0 0 0 0 0 } Factory 0 } Product 1\n",
    "      0  0  0  0 | 0 0 0 0 0 0 | -1 -1 -1 -1 | 1 1 1 1 1 1 } Factory 1 } Product 1\n",
    "      \n",
    "So for port, you start with a negative identity matrix with dimension |I|, then extend it by |K| times and for customer, you start with a positive identity matrix with dimension |I| and extend it by |J| times. The constraints vector will be the the zero vector with length |I|. So the sufficient supply matrix will look like this.\n",
    "\n",
    "I think the process for sufficient supply will look like that for the capacity matrix. Just create one and tile the rest. Nope it's the identity configuration. So you do block diag"
   ]
  },
  {
   "cell_type": "code",
   "execution_count": 1208,
   "id": "466a8b4d",
   "metadata": {},
   "outputs": [
    {
     "data": {
      "text/latex": [
       "$\\displaystyle \\left[\\begin{array}{cccccccccccccccccccccccccccccccccccccccccccccccccccccccccccccccc}-1.0 & -1.0 & -1.0 & 1.0 & 1.0 & 1.0 & 1.0 & 1.0 & 0.0 & 0.0 & 0.0 & 0.0 & 0.0 & 0.0 & 0.0 & 0.0 & 0.0 & 0.0 & 0.0 & 0.0 & 0.0 & 0.0 & 0.0 & 0.0 & 0.0 & 0.0 & 0.0 & 0.0 & 0.0 & 0.0 & 0.0 & 0.0 & 0.0 & 0.0 & 0.0 & 0.0 & 0.0 & 0.0 & 0.0 & 0.0 & 0.0 & 0.0 & 0.0 & 0.0 & 0.0 & 0.0 & 0.0 & 0.0 & 0.0 & 0.0 & 0.0 & 0.0 & 0.0 & 0.0 & 0.0 & 0.0 & 0.0 & 0.0 & 0.0 & 0.0 & 0.0 & 0.0 & 0.0 & 0.0\\\\0.0 & 0.0 & 0.0 & 0.0 & 0.0 & 0.0 & 0.0 & 0.0 & -1.0 & -1.0 & -1.0 & 1.0 & 1.0 & 1.0 & 1.0 & 1.0 & 0.0 & 0.0 & 0.0 & 0.0 & 0.0 & 0.0 & 0.0 & 0.0 & 0.0 & 0.0 & 0.0 & 0.0 & 0.0 & 0.0 & 0.0 & 0.0 & 0.0 & 0.0 & 0.0 & 0.0 & 0.0 & 0.0 & 0.0 & 0.0 & 0.0 & 0.0 & 0.0 & 0.0 & 0.0 & 0.0 & 0.0 & 0.0 & 0.0 & 0.0 & 0.0 & 0.0 & 0.0 & 0.0 & 0.0 & 0.0 & 0.0 & 0.0 & 0.0 & 0.0 & 0.0 & 0.0 & 0.0 & 0.0\\\\0.0 & 0.0 & 0.0 & 0.0 & 0.0 & 0.0 & 0.0 & 0.0 & 0.0 & 0.0 & 0.0 & 0.0 & 0.0 & 0.0 & 0.0 & 0.0 & -1.0 & -1.0 & -1.0 & 1.0 & 1.0 & 1.0 & 1.0 & 1.0 & 0.0 & 0.0 & 0.0 & 0.0 & 0.0 & 0.0 & 0.0 & 0.0 & 0.0 & 0.0 & 0.0 & 0.0 & 0.0 & 0.0 & 0.0 & 0.0 & 0.0 & 0.0 & 0.0 & 0.0 & 0.0 & 0.0 & 0.0 & 0.0 & 0.0 & 0.0 & 0.0 & 0.0 & 0.0 & 0.0 & 0.0 & 0.0 & 0.0 & 0.0 & 0.0 & 0.0 & 0.0 & 0.0 & 0.0 & 0.0\\\\0.0 & 0.0 & 0.0 & 0.0 & 0.0 & 0.0 & 0.0 & 0.0 & 0.0 & 0.0 & 0.0 & 0.0 & 0.0 & 0.0 & 0.0 & 0.0 & 0.0 & 0.0 & 0.0 & 0.0 & 0.0 & 0.0 & 0.0 & 0.0 & -1.0 & -1.0 & -1.0 & 1.0 & 1.0 & 1.0 & 1.0 & 1.0 & 0.0 & 0.0 & 0.0 & 0.0 & 0.0 & 0.0 & 0.0 & 0.0 & 0.0 & 0.0 & 0.0 & 0.0 & 0.0 & 0.0 & 0.0 & 0.0 & 0.0 & 0.0 & 0.0 & 0.0 & 0.0 & 0.0 & 0.0 & 0.0 & 0.0 & 0.0 & 0.0 & 0.0 & 0.0 & 0.0 & 0.0 & 0.0\\\\0.0 & 0.0 & 0.0 & 0.0 & 0.0 & 0.0 & 0.0 & 0.0 & 0.0 & 0.0 & 0.0 & 0.0 & 0.0 & 0.0 & 0.0 & 0.0 & 0.0 & 0.0 & 0.0 & 0.0 & 0.0 & 0.0 & 0.0 & 0.0 & 0.0 & 0.0 & 0.0 & 0.0 & 0.0 & 0.0 & 0.0 & 0.0 & -1.0 & -1.0 & -1.0 & 1.0 & 1.0 & 1.0 & 1.0 & 1.0 & 0.0 & 0.0 & 0.0 & 0.0 & 0.0 & 0.0 & 0.0 & 0.0 & 0.0 & 0.0 & 0.0 & 0.0 & 0.0 & 0.0 & 0.0 & 0.0 & 0.0 & 0.0 & 0.0 & 0.0 & 0.0 & 0.0 & 0.0 & 0.0\\\\0.0 & 0.0 & 0.0 & 0.0 & 0.0 & 0.0 & 0.0 & 0.0 & 0.0 & 0.0 & 0.0 & 0.0 & 0.0 & 0.0 & 0.0 & 0.0 & 0.0 & 0.0 & 0.0 & 0.0 & 0.0 & 0.0 & 0.0 & 0.0 & 0.0 & 0.0 & 0.0 & 0.0 & 0.0 & 0.0 & 0.0 & 0.0 & 0.0 & 0.0 & 0.0 & 0.0 & 0.0 & 0.0 & 0.0 & 0.0 & -1.0 & -1.0 & -1.0 & 1.0 & 1.0 & 1.0 & 1.0 & 1.0 & 0.0 & 0.0 & 0.0 & 0.0 & 0.0 & 0.0 & 0.0 & 0.0 & 0.0 & 0.0 & 0.0 & 0.0 & 0.0 & 0.0 & 0.0 & 0.0\\\\0.0 & 0.0 & 0.0 & 0.0 & 0.0 & 0.0 & 0.0 & 0.0 & 0.0 & 0.0 & 0.0 & 0.0 & 0.0 & 0.0 & 0.0 & 0.0 & 0.0 & 0.0 & 0.0 & 0.0 & 0.0 & 0.0 & 0.0 & 0.0 & 0.0 & 0.0 & 0.0 & 0.0 & 0.0 & 0.0 & 0.0 & 0.0 & 0.0 & 0.0 & 0.0 & 0.0 & 0.0 & 0.0 & 0.0 & 0.0 & 0.0 & 0.0 & 0.0 & 0.0 & 0.0 & 0.0 & 0.0 & 0.0 & -1.0 & -1.0 & -1.0 & 1.0 & 1.0 & 1.0 & 1.0 & 1.0 & 0.0 & 0.0 & 0.0 & 0.0 & 0.0 & 0.0 & 0.0 & 0.0\\\\0.0 & 0.0 & 0.0 & 0.0 & 0.0 & 0.0 & 0.0 & 0.0 & 0.0 & 0.0 & 0.0 & 0.0 & 0.0 & 0.0 & 0.0 & 0.0 & 0.0 & 0.0 & 0.0 & 0.0 & 0.0 & 0.0 & 0.0 & 0.0 & 0.0 & 0.0 & 0.0 & 0.0 & 0.0 & 0.0 & 0.0 & 0.0 & 0.0 & 0.0 & 0.0 & 0.0 & 0.0 & 0.0 & 0.0 & 0.0 & 0.0 & 0.0 & 0.0 & 0.0 & 0.0 & 0.0 & 0.0 & 0.0 & 0.0 & 0.0 & 0.0 & 0.0 & 0.0 & 0.0 & 0.0 & 0.0 & -1.0 & -1.0 & -1.0 & 1.0 & 1.0 & 1.0 & 1.0 & 1.0\\end{array}\\right]$"
      ],
      "text/plain": [
       "Matrix([\n",
       "[-1.0, -1.0, -1.0, 1.0, 1.0, 1.0, 1.0, 1.0,  0.0,  0.0,  0.0, 0.0, 0.0, 0.0, 0.0, 0.0,  0.0,  0.0,  0.0, 0.0, 0.0, 0.0, 0.0, 0.0,  0.0,  0.0,  0.0, 0.0, 0.0, 0.0, 0.0, 0.0,  0.0,  0.0,  0.0, 0.0, 0.0, 0.0, 0.0, 0.0,  0.0,  0.0,  0.0, 0.0, 0.0, 0.0, 0.0, 0.0,  0.0,  0.0,  0.0, 0.0, 0.0, 0.0, 0.0, 0.0,  0.0,  0.0,  0.0, 0.0, 0.0, 0.0, 0.0, 0.0],\n",
       "[ 0.0,  0.0,  0.0, 0.0, 0.0, 0.0, 0.0, 0.0, -1.0, -1.0, -1.0, 1.0, 1.0, 1.0, 1.0, 1.0,  0.0,  0.0,  0.0, 0.0, 0.0, 0.0, 0.0, 0.0,  0.0,  0.0,  0.0, 0.0, 0.0, 0.0, 0.0, 0.0,  0.0,  0.0,  0.0, 0.0, 0.0, 0.0, 0.0, 0.0,  0.0,  0.0,  0.0, 0.0, 0.0, 0.0, 0.0, 0.0,  0.0,  0.0,  0.0, 0.0, 0.0, 0.0, 0.0, 0.0,  0.0,  0.0,  0.0, 0.0, 0.0, 0.0, 0.0, 0.0],\n",
       "[ 0.0,  0.0,  0.0, 0.0, 0.0, 0.0, 0.0, 0.0,  0.0,  0.0,  0.0, 0.0, 0.0, 0.0, 0.0, 0.0, -1.0, -1.0, -1.0, 1.0, 1.0, 1.0, 1.0, 1.0,  0.0,  0.0,  0.0, 0.0, 0.0, 0.0, 0.0, 0.0,  0.0,  0.0,  0.0, 0.0, 0.0, 0.0, 0.0, 0.0,  0.0,  0.0,  0.0, 0.0, 0.0, 0.0, 0.0, 0.0,  0.0,  0.0,  0.0, 0.0, 0.0, 0.0, 0.0, 0.0,  0.0,  0.0,  0.0, 0.0, 0.0, 0.0, 0.0, 0.0],\n",
       "[ 0.0,  0.0,  0.0, 0.0, 0.0, 0.0, 0.0, 0.0,  0.0,  0.0,  0.0, 0.0, 0.0, 0.0, 0.0, 0.0,  0.0,  0.0,  0.0, 0.0, 0.0, 0.0, 0.0, 0.0, -1.0, -1.0, -1.0, 1.0, 1.0, 1.0, 1.0, 1.0,  0.0,  0.0,  0.0, 0.0, 0.0, 0.0, 0.0, 0.0,  0.0,  0.0,  0.0, 0.0, 0.0, 0.0, 0.0, 0.0,  0.0,  0.0,  0.0, 0.0, 0.0, 0.0, 0.0, 0.0,  0.0,  0.0,  0.0, 0.0, 0.0, 0.0, 0.0, 0.0],\n",
       "[ 0.0,  0.0,  0.0, 0.0, 0.0, 0.0, 0.0, 0.0,  0.0,  0.0,  0.0, 0.0, 0.0, 0.0, 0.0, 0.0,  0.0,  0.0,  0.0, 0.0, 0.0, 0.0, 0.0, 0.0,  0.0,  0.0,  0.0, 0.0, 0.0, 0.0, 0.0, 0.0, -1.0, -1.0, -1.0, 1.0, 1.0, 1.0, 1.0, 1.0,  0.0,  0.0,  0.0, 0.0, 0.0, 0.0, 0.0, 0.0,  0.0,  0.0,  0.0, 0.0, 0.0, 0.0, 0.0, 0.0,  0.0,  0.0,  0.0, 0.0, 0.0, 0.0, 0.0, 0.0],\n",
       "[ 0.0,  0.0,  0.0, 0.0, 0.0, 0.0, 0.0, 0.0,  0.0,  0.0,  0.0, 0.0, 0.0, 0.0, 0.0, 0.0,  0.0,  0.0,  0.0, 0.0, 0.0, 0.0, 0.0, 0.0,  0.0,  0.0,  0.0, 0.0, 0.0, 0.0, 0.0, 0.0,  0.0,  0.0,  0.0, 0.0, 0.0, 0.0, 0.0, 0.0, -1.0, -1.0, -1.0, 1.0, 1.0, 1.0, 1.0, 1.0,  0.0,  0.0,  0.0, 0.0, 0.0, 0.0, 0.0, 0.0,  0.0,  0.0,  0.0, 0.0, 0.0, 0.0, 0.0, 0.0],\n",
       "[ 0.0,  0.0,  0.0, 0.0, 0.0, 0.0, 0.0, 0.0,  0.0,  0.0,  0.0, 0.0, 0.0, 0.0, 0.0, 0.0,  0.0,  0.0,  0.0, 0.0, 0.0, 0.0, 0.0, 0.0,  0.0,  0.0,  0.0, 0.0, 0.0, 0.0, 0.0, 0.0,  0.0,  0.0,  0.0, 0.0, 0.0, 0.0, 0.0, 0.0,  0.0,  0.0,  0.0, 0.0, 0.0, 0.0, 0.0, 0.0, -1.0, -1.0, -1.0, 1.0, 1.0, 1.0, 1.0, 1.0,  0.0,  0.0,  0.0, 0.0, 0.0, 0.0, 0.0, 0.0],\n",
       "[ 0.0,  0.0,  0.0, 0.0, 0.0, 0.0, 0.0, 0.0,  0.0,  0.0,  0.0, 0.0, 0.0, 0.0, 0.0, 0.0,  0.0,  0.0,  0.0, 0.0, 0.0, 0.0, 0.0, 0.0,  0.0,  0.0,  0.0, 0.0, 0.0, 0.0, 0.0, 0.0,  0.0,  0.0,  0.0, 0.0, 0.0, 0.0, 0.0, 0.0,  0.0,  0.0,  0.0, 0.0, 0.0, 0.0, 0.0, 0.0,  0.0,  0.0,  0.0, 0.0, 0.0, 0.0, 0.0, 0.0, -1.0, -1.0, -1.0, 1.0, 1.0, 1.0, 1.0, 1.0]])"
      ]
     },
     "execution_count": 1208,
     "metadata": {},
     "output_type": "execute_result"
    }
   ],
   "source": [
    "Matrix(Si)"
   ]
  },
  {
   "cell_type": "code",
   "execution_count": 1227,
   "id": "cf5e3318",
   "metadata": {},
   "outputs": [],
   "source": [
    "def generate_supply_matrix(no_I, no_J, no_K, no_P):\n",
    "\n",
    "    sub_block = [-1]*no_K + [1]*no_J\n",
    "    \n",
    "    Si = block_diag(*[sub_block]*no_I*no_P)\n",
    "    \n",
    "    return Si"
   ]
  },
  {
   "cell_type": "code",
   "execution_count": 1228,
   "id": "3adb4124",
   "metadata": {},
   "outputs": [],
   "source": [
    "## Standard form of our model\n",
    "\n",
    "# New cost vector\n",
    "c = generate_objective_vector(no_I, no_J, no_K, no_P, ibik, obij)\n",
    "\n",
    "# Upper Bound\n",
    "A_ub = np.vstack([-Wijk, Ki, Si])\n",
    "b_ub = np.hstack([-wj.flatten(), ki.flatten(), np.zeros(no_I*no_P)])\n",
    "\n",
    "prog_ub = linprog(c, A_ub = A_ub, b_ub = b_ub) # Bigger than or equal constraints"
   ]
  },
  {
   "cell_type": "code",
   "execution_count": 1229,
   "id": "07a7fdea",
   "metadata": {},
   "outputs": [
    {
     "data": {
      "text/plain": [
       "     con: array([], dtype=float64)\n",
       "     fun: 1.5054664047301745\n",
       " message: 'Optimization terminated successfully.'\n",
       "     nit: 9\n",
       "   slack: array([ 4.21034891e-11,  2.89366864e-11,  2.68947087e-11,  3.78488629e-11,\n",
       "        3.16659476e-11,  2.55011567e-11,  2.43177700e-11,  3.06328990e-11,\n",
       "        3.12677662e-11,  2.85765300e-11, -7.19086457e-11,  1.44522929e-02,\n",
       "       -5.12192511e-11, -7.18975990e-11,  1.07934994e-10,  8.77900050e-11,\n",
       "       -1.32283192e-11,  7.46705919e-10, -1.46698695e-11, -1.60743988e-11,\n",
       "       -1.00907060e-11,  2.60513833e-12])\n",
       "  status: 0\n",
       " success: True\n",
       "       x: array([3.00558566e-01, 3.31446102e-12, 1.38071569e-11, 8.66027330e-03,\n",
       "       4.65090189e-12, 2.91898292e-01, 5.35277802e-12, 5.20685676e-12,\n",
       "       4.23863685e-01, 1.70942718e-11, 4.19173136e-12, 3.84391404e-11,\n",
       "       4.23863685e-01, 1.25654109e-10, 5.34945502e-12, 1.07401869e-11,\n",
       "       7.62061543e-12, 4.79258448e-12, 2.72031571e-10, 3.34572369e-12,\n",
       "       7.24414417e-11, 1.93308080e-10, 2.20973062e-11, 6.48053815e-12,\n",
       "       1.56604646e-11, 2.78263030e-01, 3.12043343e-12, 1.31273604e-11,\n",
       "       1.81625084e-11, 3.84298897e-09, 1.57183156e-01, 1.21079868e-01,\n",
       "       8.09475483e-12, 1.23518059e-11, 5.07253866e-02, 1.70939497e-11,\n",
       "       1.75860608e-11, 1.60422708e-10, 3.58857040e-12, 5.07253865e-02,\n",
       "       4.86368063e-12, 4.31887517e-12, 1.33323681e-01, 6.81172226e-11,\n",
       "       1.34584347e-10, 3.18508660e-02, 1.01472815e-01, 6.74067851e-12,\n",
       "       2.24215094e-11, 9.69915392e-01, 5.68821007e-12, 3.97743498e-01,\n",
       "       5.72171894e-01, 7.08967207e-12, 4.10562909e-12, 2.37235489e-11,\n",
       "       4.49602553e-01, 3.84102933e-12, 4.77906870e-12, 1.60130779e-01,\n",
       "       1.51408846e-11, 7.31190501e-12, 1.68053316e-01, 1.21418458e-01])"
      ]
     },
     "execution_count": 1229,
     "metadata": {},
     "output_type": "execute_result"
    }
   ],
   "source": [
    "prog_ub"
   ]
  },
  {
   "cell_type": "code",
   "execution_count": 1230,
   "id": "923c35fe",
   "metadata": {},
   "outputs": [],
   "source": [
    "result = prog_ub.x.reshape(no_P, no_I, no_J+no_K)"
   ]
  },
  {
   "cell_type": "code",
   "execution_count": 1231,
   "id": "4a9b3271",
   "metadata": {
    "scrolled": false
   },
   "outputs": [
    {
     "data": {
      "text/latex": [
       "$\\displaystyle \\left[\\begin{matrix}0.300558565628107 & 3.31446102428792 \\cdot 10^{-12} & 1.38071568894722 \\cdot 10^{-11} & 0.00866027330040877 & 4.6509018943007 \\cdot 10^{-12} & 0.291898292221674 & 5.3527780215862 \\cdot 10^{-12} & 5.20685675956531 \\cdot 10^{-12}\\\\0.423863685013507 & 1.70942717562551 \\cdot 10^{-11} & 4.19173135926597 \\cdot 10^{-12} & 3.84391403951562 \\cdot 10^{-11} & 0.42386368476682 & 1.25654108923904 \\cdot 10^{-10} & 5.34945501889596 \\cdot 10^{-12} & 1.07401869386202 \\cdot 10^{-11}\\\\7.62061542989802 \\cdot 10^{-12} & 4.79258448444286 \\cdot 10^{-12} & 2.72031571016308 \\cdot 10^{-10} & 3.34572369238719 \\cdot 10^{-12} & 7.24414417170596 \\cdot 10^{-11} & 1.93308080403422 \\cdot 10^{-10} & 2.20973061594738 \\cdot 10^{-11} & 6.4805381526451 \\cdot 10^{-12}\\\\1.5660464555302 \\cdot 10^{-11} & 0.278263029511988 & 3.12043343073827 \\cdot 10^{-12} & 1.31273604348229 \\cdot 10^{-11} & 1.8162508402345 \\cdot 10^{-11} & 3.84298897484762 \\cdot 10^{-9} & 0.157183156453459 & 0.121079868456326\\end{matrix}\\right]$"
      ],
      "text/plain": [
       "Matrix([\n",
       "[   0.300558565628107, 3.31446102428792e-12, 1.38071568894722e-11,  0.00866027330040877,  4.6509018943007e-12,    0.291898292221674,  5.3527780215862e-12, 5.20685675956531e-12],\n",
       "[   0.423863685013507, 1.70942717562551e-11, 4.19173135926597e-12, 3.84391403951562e-11,     0.42386368476682, 1.25654108923904e-10, 5.34945501889596e-12, 1.07401869386202e-11],\n",
       "[7.62061542989802e-12, 4.79258448444286e-12, 2.72031571016308e-10, 3.34572369238719e-12, 7.24414417170596e-11, 1.93308080403422e-10, 2.20973061594738e-11,  6.4805381526451e-12],\n",
       "[ 1.5660464555302e-11,    0.278263029511988, 3.12043343073827e-12, 1.31273604348229e-11,  1.8162508402345e-11,  3.84298897484762e-9,    0.157183156453459,    0.121079868456326]])"
      ]
     },
     "execution_count": 1231,
     "metadata": {},
     "output_type": "execute_result"
    }
   ],
   "source": [
    "Matrix(result[0])"
   ]
  },
  {
   "cell_type": "code",
   "execution_count": 1232,
   "id": "6982e84a",
   "metadata": {},
   "outputs": [
    {
     "data": {
      "text/latex": [
       "$\\displaystyle \\left[\\begin{matrix}8.09475483357298 \\cdot 10^{-12} & 1.23518058934616 \\cdot 10^{-11} & 0.0507253866349887 & 1.70939496729186 \\cdot 10^{-11} & 1.75860608169655 \\cdot 10^{-11} & 1.60422707778048 \\cdot 10^{-10} & 3.58857040338395 \\cdot 10^{-12} & 0.0507253864714139\\\\4.8636806345216 \\cdot 10^{-12} & 4.31887516963436 \\cdot 10^{-12} & 0.133323681282349 & 6.81172225523418 \\cdot 10^{-11} & 1.34584346664612 \\cdot 10^{-10} & 0.0318508660060446 & 0.101472815092119 & 6.74067850975834 \\cdot 10^{-12}\\\\2.24215093528941 \\cdot 10^{-11} & 0.969915391626939 & 5.68821006857345 \\cdot 10^{-12} & 0.397743497773202 & 0.572171893857018 & 7.08967207189572 \\cdot 10^{-12} & 4.10562909156495 \\cdot 10^{-12} & 2.37235488769312 \\cdot 10^{-11}\\\\0.449602552799513 & 3.8410293338578 \\cdot 10^{-12} & 4.77906870462582 \\cdot 10^{-12} & 0.160130778757358 & 1.51408845692814 \\cdot 10^{-11} & 7.3119050121529 \\cdot 10^{-12} & 0.1680533160287 & 0.121418457997017\\end{matrix}\\right]$"
      ],
      "text/plain": [
       "Matrix([\n",
       "[8.09475483357298e-12, 1.23518058934616e-11,   0.0507253866349887, 1.70939496729186e-11, 1.75860608169655e-11, 1.60422707778048e-10, 3.58857040338395e-12,   0.0507253864714139],\n",
       "[ 4.8636806345216e-12, 4.31887516963436e-12,    0.133323681282349, 6.81172225523418e-11, 1.34584346664612e-10,   0.0318508660060446,    0.101472815092119, 6.74067850975834e-12],\n",
       "[2.24215093528941e-11,    0.969915391626939, 5.68821006857345e-12,    0.397743497773202,    0.572171893857018, 7.08967207189572e-12, 4.10562909156495e-12, 2.37235488769312e-11],\n",
       "[   0.449602552799513,  3.8410293338578e-12, 4.77906870462582e-12,    0.160130778757358, 1.51408845692814e-11,  7.3119050121529e-12,      0.1680533160287,    0.121418457997017]])"
      ]
     },
     "execution_count": 1232,
     "metadata": {},
     "output_type": "execute_result"
    }
   ],
   "source": [
    "Matrix(result[1])"
   ]
  },
  {
   "cell_type": "code",
   "execution_count": 1233,
   "id": "d20ec4c9",
   "metadata": {},
   "outputs": [
    {
     "data": {
      "text/latex": [
       "$\\displaystyle \\left[\\begin{matrix}0.00866027330040877 & 4.6509018943007 \\cdot 10^{-12} & 0.291898292221674 & 5.3527780215862 \\cdot 10^{-12} & 5.20685675956531 \\cdot 10^{-12}\\\\3.84391403951562 \\cdot 10^{-11} & 0.42386368476682 & 1.25654108923904 \\cdot 10^{-10} & 5.34945501889596 \\cdot 10^{-12} & 1.07401869386202 \\cdot 10^{-11}\\\\3.34572369238719 \\cdot 10^{-12} & 7.24414417170596 \\cdot 10^{-11} & 1.93308080403422 \\cdot 10^{-10} & 2.20973061594738 \\cdot 10^{-11} & 6.4805381526451 \\cdot 10^{-12}\\\\1.31273604348229 \\cdot 10^{-11} & 1.8162508402345 \\cdot 10^{-11} & 3.84298897484762 \\cdot 10^{-9} & 0.157183156453459 & 0.121079868456326\\end{matrix}\\right]$"
      ],
      "text/plain": [
       "Matrix([\n",
       "[ 0.00866027330040877,  4.6509018943007e-12,    0.291898292221674,  5.3527780215862e-12, 5.20685675956531e-12],\n",
       "[3.84391403951562e-11,     0.42386368476682, 1.25654108923904e-10, 5.34945501889596e-12, 1.07401869386202e-11],\n",
       "[3.34572369238719e-12, 7.24414417170596e-11, 1.93308080403422e-10, 2.20973061594738e-11,  6.4805381526451e-12],\n",
       "[1.31273604348229e-11,  1.8162508402345e-11,  3.84298897484762e-9,    0.157183156453459,    0.121079868456326]])"
      ]
     },
     "execution_count": 1233,
     "metadata": {},
     "output_type": "execute_result"
    }
   ],
   "source": [
    "Matrix(result[:, :, no_K:][0])"
   ]
  },
  {
   "cell_type": "code",
   "execution_count": 1234,
   "id": "a8cb36d8",
   "metadata": {},
   "outputs": [],
   "source": [
    "### Check demand, note that the axis = 1 the array is 3d\n",
    "aae(np.sum(result[:, :, no_K:], axis = 1), wj)"
   ]
  },
  {
   "cell_type": "code",
   "execution_count": 1235,
   "id": "55b125ab",
   "metadata": {},
   "outputs": [],
   "source": [
    "### Check weighted inbound volume vs outbound volume\n",
    "aae(np.sum(result[:, :, :no_K], axis = 2), np.sum(result[:, :, no_K:], axis = 2))"
   ]
  },
  {
   "cell_type": "markdown",
   "id": "d2bbaf62",
   "metadata": {},
   "source": [
    "#### Modular Code"
   ]
  },
  {
   "cell_type": "code",
   "execution_count": 1281,
   "id": "73ca7042",
   "metadata": {},
   "outputs": [],
   "source": [
    "def optimize_logistics_5a(no_I, no_J, no_K, ibik, obij, wj, ki):\n",
    "    \n",
    "    assert np.sum(ki) >= np.sum(wj), 'More Demand than Capacity. Program is Impossible'\n",
    "    \n",
    "    ## Assume non-trivial\n",
    "    Wijk = generate_demand_matrix(no_I, no_J, no_K, no_P) # Demand Constraint Matrix\n",
    "    Ki = generate_capacity_matrix(no_I, no_J, no_K, no_P) # Capacity Constraint Matrix\n",
    "    \n",
    "    # Sufficient Supply Matrix\n",
    "    Si = generate_supply_matrix(no_I, no_J, no_K, no_P)\n",
    "\n",
    "    ## Standard form of our model\n",
    "\n",
    "    # New cost vector\n",
    "    c = generate_objective_vector(no_I, no_J, no_K, no_P, ibik, obij)\n",
    "\n",
    "    # Upper Bound\n",
    "    A_ub = np.vstack([-Wijk, Ki, Si])\n",
    "    b_ub = np.hstack([-wj.flatten(), ki.flatten(), np.zeros(no_I*no_P)])\n",
    "\n",
    "    prog = linprog(c, A_ub = A_ub, b_ub = b_ub) # Bigger than or equal constraints\n",
    "    \n",
    "    result = prog.x.reshape(no_P, no_I, no_J+no_K)\n",
    "    \n",
    "    ### Check demand, note that the axis = 1 the array is 3d\n",
    "    aae(np.sum(result[:, :, no_K:], axis = 1), wj)\n",
    "    \n",
    "    ### Check weighted inbound volume vs outbound volume\n",
    "    aae(np.sum(result[:, :, :no_K], axis = 2), np.sum(result[:, :, no_K:], axis = 2))\n",
    "    \n",
    "    return prog"
   ]
  },
  {
   "cell_type": "markdown",
   "id": "d5a3ae40",
   "metadata": {},
   "source": [
    "### Model 5b: Minimize Inbound and Outbound Logistics Constrained on Customer's Demand and Factory Capacity and Sufficient Supply (Multiple Ports) (Lossy Production) (Multiple Products) (Identical Production)\n",
    "\n",
    "We are going to skip the individual factory / product efficiency and go for full, but by the end, we will also talk about how to do individual case\n",
    "\n",
    "#### Input to the Model: \n",
    "\n",
    "1. Number of factories and customers and ports and products\n",
    "2. Outbound cost (times the number of products)\n",
    "3. Inbound cost (each port to each factory) (times the number of products)\n",
    "4. Demands (times the number of products)\n",
    "5. Factory Capacity (Identical)\n",
    "6. Loss Percentage / Efficiency (Full)"
   ]
  },
  {
   "cell_type": "code",
   "execution_count": 1307,
   "id": "f7274d12",
   "metadata": {},
   "outputs": [],
   "source": [
    "no_I, no_J, no_K, no_P = 2, 10, 1, 1 # Number of factories, number of customers, number of ports\n",
    "\n",
    "ibik = np.random.rand(no_P, no_I, no_K) # Inbound Cost\n",
    "obij = np.random.rand(no_P, no_I, no_J) # Outbound Cost\n",
    "wj = np.random.rand(no_P, no_J) # Demands vector\n",
    "ki = np.random.rand(no_I) # Factory Capacity\n",
    "ei = np.random.rand(no_P, no_I) # Efficiency If by-product: row same, by-factory: column same\\\n",
    "\n",
    "while np.sum(wj) >= np.sum(ki):\n",
    "    wj = np.random.rand(no_P, no_J) # Redo Demands vector\n",
    "    ki = np.random.rand(no_I) # Redo Factory Capacity"
   ]
  },
  {
   "cell_type": "markdown",
   "id": "057ad849",
   "metadata": {},
   "source": [
    "This only changes the sufficient supply matrix"
   ]
  },
  {
   "cell_type": "raw",
   "id": "97cdf42b",
   "metadata": {},
   "source": [
    "         Port        Factory         Port        Factory\n",
    "                 #0            |             #1  \n",
    "      0  1  2  3 | 0 1 2 3 4 5 |  0  1  2  3 | 0 1 2 3 4 5\n",
    "      ----------   -----------    ----------   -----------\n",
    "S := -0.93 -0.93 -0.93 -0.93 | 1 1 1 1 1 1 |   0     0     0     0   | 0 0 0 0 0 0 } F0P0\n",
    "       0     0     0     0   | 0 0 0 0 0 0 | -0.65 -0.65 -0.65 -0.65 | 1 1 1 1 1 1 } F1P0\n",
    "     -0.73 -0.73 -0.73 -0.73 | 1 1 1 1 1 1 |   0     0     0     0   | 0 0 0 0 0 0 } F0P1\n",
    "       0     0     0     0   | 0 0 0 0 0 0 | -0.82 -0.82 -0.82 -0.82 | 1 1 1 1 1 1 } F1P1"
   ]
  },
  {
   "cell_type": "markdown",
   "id": "bea25325",
   "metadata": {},
   "source": [
    "Hmmm. Not entirely obvious how to do this. Let's take a look at the previous example"
   ]
  },
  {
   "cell_type": "code",
   "execution_count": 1298,
   "id": "fd00c57d",
   "metadata": {},
   "outputs": [
    {
     "data": {
      "text/latex": [
       "$\\displaystyle \\left[\\begin{array}{cccccccccccccccccccccccccccccccccccccccccccccccccccccccccccccccc}-0.147023171162653 & -0.147023171162653 & -0.147023171162653 & 1.0 & 1.0 & 1.0 & 1.0 & 1.0 & 0.0 & 0.0 & 0.0 & 0.0 & 0.0 & 0.0 & 0.0 & 0.0 & 0.0 & 0.0 & 0.0 & 0.0 & 0.0 & 0.0 & 0.0 & 0.0 & 0.0 & 0.0 & 0.0 & 0.0 & 0.0 & 0.0 & 0.0 & 0.0 & 0.0 & 0.0 & 0.0 & 0.0 & 0.0 & 0.0 & 0.0 & 0.0 & 0.0 & 0.0 & 0.0 & 0.0 & 0.0 & 0.0 & 0.0 & 0.0 & 0.0 & 0.0 & 0.0 & 0.0 & 0.0 & 0.0 & 0.0 & 0.0 & 0.0 & 0.0 & 0.0 & 0.0 & 0.0 & 0.0 & 0.0 & 0.0\\\\0.0 & 0.0 & 0.0 & 0.0 & 0.0 & 0.0 & 0.0 & 0.0 & -0.943579576677984 & -0.943579576677984 & -0.943579576677984 & 1.0 & 1.0 & 1.0 & 1.0 & 1.0 & 0.0 & 0.0 & 0.0 & 0.0 & 0.0 & 0.0 & 0.0 & 0.0 & 0.0 & 0.0 & 0.0 & 0.0 & 0.0 & 0.0 & 0.0 & 0.0 & 0.0 & 0.0 & 0.0 & 0.0 & 0.0 & 0.0 & 0.0 & 0.0 & 0.0 & 0.0 & 0.0 & 0.0 & 0.0 & 0.0 & 0.0 & 0.0 & 0.0 & 0.0 & 0.0 & 0.0 & 0.0 & 0.0 & 0.0 & 0.0 & 0.0 & 0.0 & 0.0 & 0.0 & 0.0 & 0.0 & 0.0 & 0.0\\\\0.0 & 0.0 & 0.0 & 0.0 & 0.0 & 0.0 & 0.0 & 0.0 & 0.0 & 0.0 & 0.0 & 0.0 & 0.0 & 0.0 & 0.0 & 0.0 & -0.427532648206972 & -0.427532648206972 & -0.427532648206972 & 1.0 & 1.0 & 1.0 & 1.0 & 1.0 & 0.0 & 0.0 & 0.0 & 0.0 & 0.0 & 0.0 & 0.0 & 0.0 & 0.0 & 0.0 & 0.0 & 0.0 & 0.0 & 0.0 & 0.0 & 0.0 & 0.0 & 0.0 & 0.0 & 0.0 & 0.0 & 0.0 & 0.0 & 0.0 & 0.0 & 0.0 & 0.0 & 0.0 & 0.0 & 0.0 & 0.0 & 0.0 & 0.0 & 0.0 & 0.0 & 0.0 & 0.0 & 0.0 & 0.0 & 0.0\\\\0.0 & 0.0 & 0.0 & 0.0 & 0.0 & 0.0 & 0.0 & 0.0 & 0.0 & 0.0 & 0.0 & 0.0 & 0.0 & 0.0 & 0.0 & 0.0 & 0.0 & 0.0 & 0.0 & 0.0 & 0.0 & 0.0 & 0.0 & 0.0 & -0.952861774307356 & -0.952861774307356 & -0.952861774307356 & 1.0 & 1.0 & 1.0 & 1.0 & 1.0 & 0.0 & 0.0 & 0.0 & 0.0 & 0.0 & 0.0 & 0.0 & 0.0 & 0.0 & 0.0 & 0.0 & 0.0 & 0.0 & 0.0 & 0.0 & 0.0 & 0.0 & 0.0 & 0.0 & 0.0 & 0.0 & 0.0 & 0.0 & 0.0 & 0.0 & 0.0 & 0.0 & 0.0 & 0.0 & 0.0 & 0.0 & 0.0\\\\0.0 & 0.0 & 0.0 & 0.0 & 0.0 & 0.0 & 0.0 & 0.0 & 0.0 & 0.0 & 0.0 & 0.0 & 0.0 & 0.0 & 0.0 & 0.0 & 0.0 & 0.0 & 0.0 & 0.0 & 0.0 & 0.0 & 0.0 & 0.0 & 0.0 & 0.0 & 0.0 & 0.0 & 0.0 & 0.0 & 0.0 & 0.0 & -0.936833236307759 & -0.936833236307759 & -0.936833236307759 & 1.0 & 1.0 & 1.0 & 1.0 & 1.0 & 0.0 & 0.0 & 0.0 & 0.0 & 0.0 & 0.0 & 0.0 & 0.0 & 0.0 & 0.0 & 0.0 & 0.0 & 0.0 & 0.0 & 0.0 & 0.0 & 0.0 & 0.0 & 0.0 & 0.0 & 0.0 & 0.0 & 0.0 & 0.0\\\\0.0 & 0.0 & 0.0 & 0.0 & 0.0 & 0.0 & 0.0 & 0.0 & 0.0 & 0.0 & 0.0 & 0.0 & 0.0 & 0.0 & 0.0 & 0.0 & 0.0 & 0.0 & 0.0 & 0.0 & 0.0 & 0.0 & 0.0 & 0.0 & 0.0 & 0.0 & 0.0 & 0.0 & 0.0 & 0.0 & 0.0 & 0.0 & 0.0 & 0.0 & 0.0 & 0.0 & 0.0 & 0.0 & 0.0 & 0.0 & -0.237958326305687 & -0.237958326305687 & -0.237958326305687 & 1.0 & 1.0 & 1.0 & 1.0 & 1.0 & 0.0 & 0.0 & 0.0 & 0.0 & 0.0 & 0.0 & 0.0 & 0.0 & 0.0 & 0.0 & 0.0 & 0.0 & 0.0 & 0.0 & 0.0 & 0.0\\\\0.0 & 0.0 & 0.0 & 0.0 & 0.0 & 0.0 & 0.0 & 0.0 & 0.0 & 0.0 & 0.0 & 0.0 & 0.0 & 0.0 & 0.0 & 0.0 & 0.0 & 0.0 & 0.0 & 0.0 & 0.0 & 0.0 & 0.0 & 0.0 & 0.0 & 0.0 & 0.0 & 0.0 & 0.0 & 0.0 & 0.0 & 0.0 & 0.0 & 0.0 & 0.0 & 0.0 & 0.0 & 0.0 & 0.0 & 0.0 & 0.0 & 0.0 & 0.0 & 0.0 & 0.0 & 0.0 & 0.0 & 0.0 & -0.942161807803059 & -0.942161807803059 & -0.942161807803059 & 1.0 & 1.0 & 1.0 & 1.0 & 1.0 & 0.0 & 0.0 & 0.0 & 0.0 & 0.0 & 0.0 & 0.0 & 0.0\\\\0.0 & 0.0 & 0.0 & 0.0 & 0.0 & 0.0 & 0.0 & 0.0 & 0.0 & 0.0 & 0.0 & 0.0 & 0.0 & 0.0 & 0.0 & 0.0 & 0.0 & 0.0 & 0.0 & 0.0 & 0.0 & 0.0 & 0.0 & 0.0 & 0.0 & 0.0 & 0.0 & 0.0 & 0.0 & 0.0 & 0.0 & 0.0 & 0.0 & 0.0 & 0.0 & 0.0 & 0.0 & 0.0 & 0.0 & 0.0 & 0.0 & 0.0 & 0.0 & 0.0 & 0.0 & 0.0 & 0.0 & 0.0 & 0.0 & 0.0 & 0.0 & 0.0 & 0.0 & 0.0 & 0.0 & 0.0 & -0.984261966584342 & -0.984261966584342 & -0.984261966584342 & 1.0 & 1.0 & 1.0 & 1.0 & 1.0\\end{array}\\right]$"
      ],
      "text/plain": [
       "Matrix([\n",
       "[-0.147023171162653, -0.147023171162653, -0.147023171162653, 1.0, 1.0, 1.0, 1.0, 1.0,                0.0,                0.0,                0.0, 0.0, 0.0, 0.0, 0.0, 0.0,                0.0,                0.0,                0.0, 0.0, 0.0, 0.0, 0.0, 0.0,                0.0,                0.0,                0.0, 0.0, 0.0, 0.0, 0.0, 0.0,                0.0,                0.0,                0.0, 0.0, 0.0, 0.0, 0.0, 0.0,                0.0,                0.0,                0.0, 0.0, 0.0, 0.0, 0.0, 0.0,                0.0,                0.0,                0.0, 0.0, 0.0, 0.0, 0.0, 0.0,                0.0,                0.0,                0.0, 0.0, 0.0, 0.0, 0.0, 0.0],\n",
       "[               0.0,                0.0,                0.0, 0.0, 0.0, 0.0, 0.0, 0.0, -0.943579576677984, -0.943579576677984, -0.943579576677984, 1.0, 1.0, 1.0, 1.0, 1.0,                0.0,                0.0,                0.0, 0.0, 0.0, 0.0, 0.0, 0.0,                0.0,                0.0,                0.0, 0.0, 0.0, 0.0, 0.0, 0.0,                0.0,                0.0,                0.0, 0.0, 0.0, 0.0, 0.0, 0.0,                0.0,                0.0,                0.0, 0.0, 0.0, 0.0, 0.0, 0.0,                0.0,                0.0,                0.0, 0.0, 0.0, 0.0, 0.0, 0.0,                0.0,                0.0,                0.0, 0.0, 0.0, 0.0, 0.0, 0.0],\n",
       "[               0.0,                0.0,                0.0, 0.0, 0.0, 0.0, 0.0, 0.0,                0.0,                0.0,                0.0, 0.0, 0.0, 0.0, 0.0, 0.0, -0.427532648206972, -0.427532648206972, -0.427532648206972, 1.0, 1.0, 1.0, 1.0, 1.0,                0.0,                0.0,                0.0, 0.0, 0.0, 0.0, 0.0, 0.0,                0.0,                0.0,                0.0, 0.0, 0.0, 0.0, 0.0, 0.0,                0.0,                0.0,                0.0, 0.0, 0.0, 0.0, 0.0, 0.0,                0.0,                0.0,                0.0, 0.0, 0.0, 0.0, 0.0, 0.0,                0.0,                0.0,                0.0, 0.0, 0.0, 0.0, 0.0, 0.0],\n",
       "[               0.0,                0.0,                0.0, 0.0, 0.0, 0.0, 0.0, 0.0,                0.0,                0.0,                0.0, 0.0, 0.0, 0.0, 0.0, 0.0,                0.0,                0.0,                0.0, 0.0, 0.0, 0.0, 0.0, 0.0, -0.952861774307356, -0.952861774307356, -0.952861774307356, 1.0, 1.0, 1.0, 1.0, 1.0,                0.0,                0.0,                0.0, 0.0, 0.0, 0.0, 0.0, 0.0,                0.0,                0.0,                0.0, 0.0, 0.0, 0.0, 0.0, 0.0,                0.0,                0.0,                0.0, 0.0, 0.0, 0.0, 0.0, 0.0,                0.0,                0.0,                0.0, 0.0, 0.0, 0.0, 0.0, 0.0],\n",
       "[               0.0,                0.0,                0.0, 0.0, 0.0, 0.0, 0.0, 0.0,                0.0,                0.0,                0.0, 0.0, 0.0, 0.0, 0.0, 0.0,                0.0,                0.0,                0.0, 0.0, 0.0, 0.0, 0.0, 0.0,                0.0,                0.0,                0.0, 0.0, 0.0, 0.0, 0.0, 0.0, -0.936833236307759, -0.936833236307759, -0.936833236307759, 1.0, 1.0, 1.0, 1.0, 1.0,                0.0,                0.0,                0.0, 0.0, 0.0, 0.0, 0.0, 0.0,                0.0,                0.0,                0.0, 0.0, 0.0, 0.0, 0.0, 0.0,                0.0,                0.0,                0.0, 0.0, 0.0, 0.0, 0.0, 0.0],\n",
       "[               0.0,                0.0,                0.0, 0.0, 0.0, 0.0, 0.0, 0.0,                0.0,                0.0,                0.0, 0.0, 0.0, 0.0, 0.0, 0.0,                0.0,                0.0,                0.0, 0.0, 0.0, 0.0, 0.0, 0.0,                0.0,                0.0,                0.0, 0.0, 0.0, 0.0, 0.0, 0.0,                0.0,                0.0,                0.0, 0.0, 0.0, 0.0, 0.0, 0.0, -0.237958326305687, -0.237958326305687, -0.237958326305687, 1.0, 1.0, 1.0, 1.0, 1.0,                0.0,                0.0,                0.0, 0.0, 0.0, 0.0, 0.0, 0.0,                0.0,                0.0,                0.0, 0.0, 0.0, 0.0, 0.0, 0.0],\n",
       "[               0.0,                0.0,                0.0, 0.0, 0.0, 0.0, 0.0, 0.0,                0.0,                0.0,                0.0, 0.0, 0.0, 0.0, 0.0, 0.0,                0.0,                0.0,                0.0, 0.0, 0.0, 0.0, 0.0, 0.0,                0.0,                0.0,                0.0, 0.0, 0.0, 0.0, 0.0, 0.0,                0.0,                0.0,                0.0, 0.0, 0.0, 0.0, 0.0, 0.0,                0.0,                0.0,                0.0, 0.0, 0.0, 0.0, 0.0, 0.0, -0.942161807803059, -0.942161807803059, -0.942161807803059, 1.0, 1.0, 1.0, 1.0, 1.0,                0.0,                0.0,                0.0, 0.0, 0.0, 0.0, 0.0, 0.0],\n",
       "[               0.0,                0.0,                0.0, 0.0, 0.0, 0.0, 0.0, 0.0,                0.0,                0.0,                0.0, 0.0, 0.0, 0.0, 0.0, 0.0,                0.0,                0.0,                0.0, 0.0, 0.0, 0.0, 0.0, 0.0,                0.0,                0.0,                0.0, 0.0, 0.0, 0.0, 0.0, 0.0,                0.0,                0.0,                0.0, 0.0, 0.0, 0.0, 0.0, 0.0,                0.0,                0.0,                0.0, 0.0, 0.0, 0.0, 0.0, 0.0,                0.0,                0.0,                0.0, 0.0, 0.0, 0.0, 0.0, 0.0, -0.984261966584342, -0.984261966584342, -0.984261966584342, 1.0, 1.0, 1.0, 1.0, 1.0]])"
      ]
     },
     "execution_count": 1298,
     "metadata": {},
     "output_type": "execute_result"
    }
   ],
   "source": [
    "Matrix(Si)"
   ]
  },
  {
   "cell_type": "code",
   "execution_count": 1299,
   "id": "a62528b8",
   "metadata": {},
   "outputs": [],
   "source": [
    "def generate_supply_matrix_with_efficiency(no_I, no_J, no_K, no_P, ei):\n",
    "\n",
    "    left = np.tile(-ei.reshape(no_P*no_I, 1), reps = no_K)\n",
    "\n",
    "    right = np.ones((no_P*no_I, no_J))\n",
    "\n",
    "    Si = block_diag(*np.hstack([left, right]))\n",
    "    \n",
    "    return Si"
   ]
  },
  {
   "cell_type": "code",
   "execution_count": 1308,
   "id": "ec5b8482",
   "metadata": {
    "scrolled": true
   },
   "outputs": [],
   "source": [
    "def optimize_logistics_5b(no_I, no_J, no_K, ibik, obij, wj, ki, ei):\n",
    "    \n",
    "    assert np.sum(ki) >= np.sum(wj), 'More Demand than Capacity. Program is Impossible'\n",
    "    \n",
    "    ## Assume non-trivial\n",
    "    Wijk = generate_demand_matrix(no_I, no_J, no_K, no_P) # Demand Constraint Matrix\n",
    "    Ki = generate_capacity_matrix(no_I, no_J, no_K, no_P) # Capacity Constraint Matrix\n",
    "    \n",
    "    # Sufficient Supply Matrix\n",
    "    Si = generate_supply_matrix_with_efficiency(no_I, no_J, no_K, no_P, ei)\n",
    "\n",
    "    ## Standard form of our model\n",
    "\n",
    "    # New cost vector\n",
    "    c = generate_objective_vector(no_I, no_J, no_K, no_P, ibik, obij)\n",
    "\n",
    "    # Upper Bound\n",
    "    A_ub = np.vstack([-Wijk, Ki, Si])\n",
    "    b_ub = np.hstack([-wj.flatten(), ki.flatten(), np.zeros(no_I*no_P)])\n",
    "\n",
    "    prog = linprog(c, A_ub = A_ub, b_ub = b_ub) # Bigger than or equal constraints\n",
    "    \n",
    "    result = prog.x.reshape(no_P, no_I, no_J+no_K)\n",
    "    \n",
    "    ### Check demand, note that the axis = 1 the array is 3d\n",
    "    aae(np.sum(result[:, :, no_K:], axis = 1), wj)\n",
    "    \n",
    "    ### Check weighted inbound volume vs outbound volume\n",
    "    aae(np.sum(result[:, :, :no_K], axis = 2)*ei, np.sum(result[:, :, no_K:], axis = 2))\n",
    "    \n",
    "    return prog"
   ]
  },
  {
   "cell_type": "code",
   "execution_count": 1309,
   "id": "f9337c25",
   "metadata": {},
   "outputs": [],
   "source": [
    "prog = optimize_logistics_5b(no_I, no_J, no_K, ibik, obij, wj, ki, ei)"
   ]
  }
 ],
 "metadata": {
  "kernelspec": {
   "display_name": "Python 3",
   "language": "python",
   "name": "python3"
  },
  "language_info": {
   "codemirror_mode": {
    "name": "ipython",
    "version": 3
   },
   "file_extension": ".py",
   "mimetype": "text/x-python",
   "name": "python",
   "nbconvert_exporter": "python",
   "pygments_lexer": "ipython3",
   "version": "3.8.3"
  }
 },
 "nbformat": 4,
 "nbformat_minor": 5
}
