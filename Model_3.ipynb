{
 "cells": [
  {
   "cell_type": "code",
   "execution_count": 4,
   "id": "14a59d25",
   "metadata": {},
   "outputs": [],
   "source": [
    "from tools import *"
   ]
  },
  {
   "cell_type": "markdown",
   "id": "8bbcdca1",
   "metadata": {},
   "source": [
    "### Model 3: Minimize Inbound and Outbound Logistics Constrained on Customer's Demand and Factory Capacity (Single Port)\n",
    "\n",
    "#### Input to the Model: \n",
    "\n",
    "1. Number of factories and customers\n",
    "2. Outbound cost\n",
    "3. Demands\n",
    "4. Factory Capacity\n",
    "5. Inbound cost (port to each factory)\n",
    "\n",
    "In this case, the cost vector will still be the volume to the customer, but it will be the sum of the outbound and inbound cost"
   ]
  },
  {
   "cell_type": "raw",
   "id": "93922ffa",
   "metadata": {},
   "source": [
    "            Port\n",
    "             0\n",
    "ibi := 5 5 5 5 5 5 } Factory 0\n",
    "       4 4 4 4 4 4 } Factory 1\n",
    "\n",
    "         Customers\n",
    "        0 1 2 3 4 5\n",
    "obij := 5 2 3 4 6 7 } Factory 0\n",
    "        1 1 6 3 2 4 } Factory 1\n",
    "       \n",
    "c := ibi + obij (element-wise)"
   ]
  },
  {
   "cell_type": "code",
   "execution_count": 5,
   "id": "d3d4d3a4",
   "metadata": {},
   "outputs": [],
   "source": [
    "no_I, no_J = 30, 20 # Number of factories, number of customers\n",
    "\n",
    "obij = np.random.rand(no_I, no_J) # Outbound Cost\n",
    "wj = np.random.rand(no_J) # Demands vector\n",
    "ki = np.random.rand(no_I) # Factory Capacity\n",
    "ibi = np.random.rand(no_I) # Inbound Cost"
   ]
  },
  {
   "cell_type": "code",
   "execution_count": 6,
   "id": "45922fe7",
   "metadata": {},
   "outputs": [],
   "source": [
    "## Assume non-trivial\n",
    "\n",
    "# Repeat and reshape ibi to the correct shape\n",
    "ibi = np.repeat(ibi, repeats = no_J).reshape(no_I, no_J)\n",
    "\n",
    "Wij = np.hstack([np.eye(no_J)]*no_I) # Demand Constraint Matrix\n",
    "Kij = np.repeat(np.eye(no_I), repeats = no_J, axis = 1) # Capacity Constraint Matrix\n",
    "\n",
    "c = (ibi + obij).flatten()\n",
    "\n",
    "## Standard form of our model\n",
    "\n",
    "# Upper Bound\n",
    "A_ub = np.vstack([-Wij, Kij])\n",
    "b_ub = np.hstack([-wj, ki])\n",
    "\n",
    "prog_ub = linprog(c, A_ub = A_ub, b_ub = b_ub) # Bigger than or equal constraints\n",
    "\n",
    "# Equality\n",
    "A_ub = Kij\n",
    "b_ub = ki\n",
    "\n",
    "A_eq = -Wij\n",
    "b_eq = -wj\n",
    "\n",
    "prog_eq = linprog(c, A_ub = A_ub, b_ub = b_ub, \n",
    "                  A_eq = A_eq, b_eq = b_eq) # Equality constraints"
   ]
  },
  {
   "cell_type": "markdown",
   "id": "29618305",
   "metadata": {},
   "source": [
    "#### Modular Code"
   ]
  },
  {
   "cell_type": "code",
   "execution_count": 7,
   "id": "e3cd14b9",
   "metadata": {},
   "outputs": [],
   "source": [
    "def optimize_logistics_3(no_I, no_J, obij, wj, ki, ibi):\n",
    "    \n",
    "    ## Assume non-trivial\n",
    "\n",
    "    # Repeat and reshape ibi to the correct shape\n",
    "    ibi = np.repeat(ibi, repeats = no_J).reshape(no_I, no_J)\n",
    "\n",
    "    Wij = np.hstack([np.eye(no_J)]*no_I) # Demand Constraint Matrix\n",
    "    Kij = np.repeat(np.eye(no_I), repeats = no_J, axis = 1) # Capacity Constraint Matrix\n",
    "\n",
    "    c = (ibi + obij).flatten()\n",
    "\n",
    "    ## Standard form of our model\n",
    "\n",
    "    # Upper Bound\n",
    "    A_ub = np.vstack([-Wij, Kij])\n",
    "    b_ub = np.hstack([-wj, ki])\n",
    "\n",
    "    prog = linprog(c, A_ub = A_ub, b_ub = b_ub) # Bigger than or equal constraints\n",
    "    \n",
    "    return prog"
   ]
  }
 ],
 "metadata": {
  "kernelspec": {
   "display_name": "Python 3",
   "language": "python",
   "name": "python3"
  },
  "language_info": {
   "codemirror_mode": {
    "name": "ipython",
    "version": 3
   },
   "file_extension": ".py",
   "mimetype": "text/x-python",
   "name": "python",
   "nbconvert_exporter": "python",
   "pygments_lexer": "ipython3",
   "version": "3.8.3"
  }
 },
 "nbformat": 4,
 "nbformat_minor": 5
}
