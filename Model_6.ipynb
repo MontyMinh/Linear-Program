{
 "cells": [
  {
   "cell_type": "code",
   "execution_count": 1,
   "id": "8454138f",
   "metadata": {},
   "outputs": [],
   "source": [
    "from tools import *"
   ]
  },
  {
   "cell_type": "markdown",
   "id": "0033810a",
   "metadata": {},
   "source": [
    "### Model 6: Minimize Inbound and Outbound Logistics Constrained on Customer's Demand and Factory Capacity and Sufficient Supply (Multiple Ports) (Lossy Production) (Multiple Products) (Variable Product Capacity)"
   ]
  },
  {
   "cell_type": "markdown",
   "id": "a1d0bcfe",
   "metadata": {},
   "source": [
    "Variable production means that each product will take a variable amount at one factory. Then the capacity is in fact the total production time. This requires some changes to the capacity matrix."
   ]
  },
  {
   "cell_type": "markdown",
   "id": "7aa4cd30",
   "metadata": {},
   "source": [
    "#### Input to the Model: \n",
    "\n",
    "1. Number of factories and customers and ports and products\n",
    "2. Outbound cost (times the number of products)\n",
    "3. Inbound cost (each port to each factory) (times the number of products)\n",
    "4. Demands (times the number of products)\n",
    "5. Factory Capacity (Variable)\n",
    "6. Loss Percentage / Efficiency (Variable)"
   ]
  },
  {
   "cell_type": "code",
   "execution_count": 2,
   "id": "8415ad48",
   "metadata": {
    "collapsed": true
   },
   "outputs": [
    {
     "ename": "SyntaxError",
     "evalue": "invalid syntax (<ipython-input-2-f1edd574916c>, line 1)",
     "output_type": "error",
     "traceback": [
      "\u001b[0;36m  File \u001b[0;32m\"<ipython-input-2-f1edd574916c>\"\u001b[0;36m, line \u001b[0;32m1\u001b[0m\n\u001b[0;31m    0 0 | 0.75 0.75 0.75 | 0 0 |  0    0    0   || 0 0 0 0 | 0.63 0.63 0.63 | 0 0 |  0   0   0\u001b[0m\n\u001b[0m      ^\u001b[0m\n\u001b[0;31mSyntaxError\u001b[0m\u001b[0;31m:\u001b[0m invalid syntax\n"
     ]
    }
   ],
   "source": [
    "0 0 | 0.75 0.75 0.75 | 0 0 |  0    0    0   || 0 0 0 0 | 0.63 0.63 0.63 | 0 0 |  0   0   0\n",
    "0 0 |  0    0    0   | 0 0 | 0.43 0.43 0.43 || 0 0 0 0 |  0    0    0   | 0 0 | .59 .59 .59"
   ]
  },
  {
   "cell_type": "code",
   "execution_count": 34,
   "id": "f0020663",
   "metadata": {},
   "outputs": [],
   "source": [
    "no_I, no_J, no_K, no_P = 4, 5, 3, 2 # Number of factories, number of customers, number of ports\n",
    "\n",
    "ibik = np.random.rand(no_P, no_I, no_K) # Inbound Cost\n",
    "obij = np.random.rand(no_P, no_I, no_J) # Outbound Cost\n",
    "wj = np.random.rand(no_P, no_J) # Demands vector\n",
    "ki = np.random.rand(no_I) # Factory Capacity\n",
    "ei = np.random.rand(no_P, no_I) # Efficiency If by-product: row same, by-factory: column same\\\n",
    "ti = np.random.rand(no_P, no_I)\n",
    "\n",
    "while np.sum(wj) >= np.sum(ki):\n",
    "    wj = np.random.rand(no_P, no_J) # Redo Demands vector\n",
    "    ki = np.random.rand(no_I) # Redo Factory Capacity"
   ]
  },
  {
   "cell_type": "code",
   "execution_count": 35,
   "id": "8b562b1d",
   "metadata": {},
   "outputs": [],
   "source": [
    "def generate_objective_vector(no_I, no_J, no_K, no_P, ibik, obij):\n",
    "    c = np.concatenate([ibik.reshape(no_P, no_I, no_K), \n",
    "                        obij.reshape(no_P, no_I, no_J)], axis = 2).flatten()\n",
    "    return c"
   ]
  },
  {
   "cell_type": "code",
   "execution_count": 36,
   "id": "00521228",
   "metadata": {},
   "outputs": [],
   "source": [
    "def generate_demand_matrix(no_I, no_J, no_K, no_P):\n",
    "    \n",
    "    sub_block = np.tile(np.hstack([np.zeros((no_J, no_K)), np.eye(no_J)]), reps = no_I)\n",
    "    \n",
    "    Wijk = block_diag(*[sub_block]*no_P)\n",
    "    \n",
    "    return Wijk"
   ]
  },
  {
   "cell_type": "code",
   "execution_count": 37,
   "id": "3288db47",
   "metadata": {},
   "outputs": [],
   "source": [
    "def generate_capacity_matrix(no_I, no_J, no_K, no_P, ti):\n",
    "\n",
    "    product_block_list = []\n",
    "    for p in range(no_P):\n",
    "        \n",
    "        factory_block_list = []\n",
    "        port_block = np.zeros((no_I, no_K))\n",
    "        for i in range(no_I):\n",
    "            customer_column = np.zeros((no_I, 1))\n",
    "            customer_column[i] = ti[p][i]\n",
    "            customer_block = np.repeat(customer_column, repeats = no_J, axis = 1)\n",
    "            factory_block_list.append(np.hstack([port_block, customer_block]))\n",
    "            \n",
    "        product_block_list += factory_block_list\n",
    "\n",
    "    Ki = np.concatenate(product_block_list, axis = 1)\n",
    "    \n",
    "    return Ki"
   ]
  },
  {
   "cell_type": "code",
   "execution_count": 38,
   "id": "562553b5",
   "metadata": {},
   "outputs": [],
   "source": [
    "def generate_supply_matrix_with_efficiency(no_I, no_J, no_K, no_P, ei):\n",
    "\n",
    "    left = np.tile(-ei.reshape(no_P*no_I, 1), reps = no_K)\n",
    "\n",
    "    right = np.ones((no_P*no_I, no_J))\n",
    "\n",
    "    Si = block_diag(*np.hstack([left, right]))\n",
    "    \n",
    "    return Si"
   ]
  },
  {
   "cell_type": "code",
   "execution_count": 39,
   "id": "96033b88",
   "metadata": {},
   "outputs": [],
   "source": [
    "## Assume non-trivial\n",
    "Wijk = generate_demand_matrix(no_I, no_J, no_K, no_P) # Demand Constraint Matrix\n",
    "Ki = generate_capacity_matrix(no_I, no_J, no_K, no_P, ti) # Capacity Constraint Matrix\n",
    "\n",
    "# Sufficient Supply Matrix\n",
    "Si = generate_supply_matrix_with_efficiency(no_I, no_J, no_K, no_P, ei)"
   ]
  },
  {
   "cell_type": "code",
   "execution_count": 41,
   "id": "626f4a5a",
   "metadata": {},
   "outputs": [],
   "source": [
    "## Standard form of our model\n",
    "\n",
    "# New cost vector\n",
    "c = generate_objective_vector(no_I, no_J, no_K, no_P, ibik, obij)\n",
    "\n",
    "# Upper Bound\n",
    "A_ub = np.vstack([-Wijk, Ki, Si])\n",
    "b_ub = np.hstack([-wj.flatten(), ki.flatten(), np.zeros(no_I*no_P)])\n",
    "\n",
    "prog = linprog(c, A_ub = A_ub, b_ub = b_ub) # Bigger than or equal constraints\n",
    "\n",
    "result = prog.x.reshape(no_P, no_I, no_J+no_K)"
   ]
  },
  {
   "cell_type": "code",
   "execution_count": 46,
   "id": "b86d893a",
   "metadata": {},
   "outputs": [],
   "source": [
    "### Check demand, note that the axis = 1 the array is 3d\n",
    "aae(np.sum(result[:, :, no_K:], axis = 1), wj)\n",
    "\n",
    "### Check weighted inbound volume vs outbound volume\n",
    "aae(np.sum(result[:, :, :no_K], axis = 2)*ei, np.sum(result[:, :, no_K:], axis = 2))"
   ]
  },
  {
   "cell_type": "code",
   "execution_count": 51,
   "id": "2bbb723d",
   "metadata": {},
   "outputs": [],
   "source": [
    "def optimize_logistics_6(no_I, no_J, no_K, ibik, obij, wj, ki, ei, ti):\n",
    "    \n",
    "    assert np.sum(ki) >= np.sum(wj), 'More Demand than Capacity. Program is Impossible'\n",
    "\n",
    "    ### Standard form of our model\n",
    "    ## Assume non-trivial\n",
    "    Wijk = generate_demand_matrix(no_I, no_J, no_K, no_P) # Demand Constraint Matrix\n",
    "    Ki = generate_capacity_matrix(no_I, no_J, no_K, no_P, ti) # Capacity Constraint Matrix\n",
    "\n",
    "    # Sufficient Supply Matrix\n",
    "    Si = generate_supply_matrix_with_efficiency(no_I, no_J, no_K, no_P, ei)\n",
    "\n",
    "    # New cost vector\n",
    "    c = generate_objective_vector(no_I, no_J, no_K, no_P, ibik, obij)\n",
    "\n",
    "    # Upper Bound\n",
    "    A_ub = np.vstack([-Wijk, Ki, Si])\n",
    "    b_ub = np.hstack([-wj.flatten(), ki.flatten(), np.zeros(no_I*no_P)])\n",
    "\n",
    "    prog = linprog(c, A_ub = A_ub, b_ub = b_ub) # Bigger than or equal constraints\n",
    "\n",
    "    result = prog.x.reshape(no_P, no_I, no_J+no_K)\n",
    "    \n",
    "    ### Check demand, note that the axis = 1 the array is 3d\n",
    "    aae(np.sum(result[:, :, no_K:], axis = 1), wj)\n",
    "\n",
    "    ### Check weighted inbound volume vs outbound volume\n",
    "    aae(np.sum(result[:, :, :no_K], axis = 2)*ei, np.sum(result[:, :, no_K:], axis = 2))\n",
    "    \n",
    "    return prog"
   ]
  },
  {
   "cell_type": "code",
   "execution_count": 57,
   "id": "31749c94",
   "metadata": {},
   "outputs": [],
   "source": [
    "prog = optimize_logistics_6(no_I, no_J, no_K, ibik, obij, wj, ki, ei, ti)"
   ]
  }
 ],
 "metadata": {
  "kernelspec": {
   "display_name": "Python 3",
   "language": "python",
   "name": "python3"
  },
  "language_info": {
   "codemirror_mode": {
    "name": "ipython",
    "version": 3
   },
   "file_extension": ".py",
   "mimetype": "text/x-python",
   "name": "python",
   "nbconvert_exporter": "python",
   "pygments_lexer": "ipython3",
   "version": "3.8.3"
  }
 },
 "nbformat": 4,
 "nbformat_minor": 5
}
