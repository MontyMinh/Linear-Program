{
 "cells": [
  {
   "cell_type": "code",
   "execution_count": 107,
   "id": "cfd58379",
   "metadata": {},
   "outputs": [],
   "source": [
    "from tools import *"
   ]
  },
  {
   "cell_type": "markdown",
   "id": "00fc5e05",
   "metadata": {},
   "source": [
    "Here, we are going to set up preprocessing for the distance to cost and the variable cost calculation"
   ]
  },
  {
   "cell_type": "markdown",
   "id": "a83610fe",
   "metadata": {},
   "source": [
    "### Distance to Cost calculation"
   ]
  },
  {
   "cell_type": "raw",
   "id": "f426a5b1",
   "metadata": {},
   "source": [
    "Here we use a rectified linear function, with three parameter, the constant charge, the distace of constant charge and the variable rate. This should only applies to outbound logistics. There are |I| * |J| distances and constant distance and actually everything else because transportation doesn't care about the product. So this makes thing simpler"
   ]
  },
  {
   "cell_type": "code",
   "execution_count": 11,
   "id": "971de5f6",
   "metadata": {},
   "outputs": [],
   "source": [
    "no_I, no_J, no_K, no_P = 3, 5, 3, 2 # Number of factories, number of customers, number of ports \n",
    "\n",
    "dij, lij, aij, bij= np.random.rand(4, no_I, no_J)"
   ]
  },
  {
   "cell_type": "code",
   "execution_count": 33,
   "id": "19510b40",
   "metadata": {},
   "outputs": [],
   "source": [
    "distance_to_cost = lambda d, l, a, b: np.maximum(0, b * (d - l)) + a"
   ]
  },
  {
   "cell_type": "markdown",
   "id": "47918bdb",
   "metadata": {},
   "source": [
    "### Processing Variable Production Cost"
   ]
  },
  {
   "cell_type": "code",
   "execution_count": 66,
   "id": "17d2186c",
   "metadata": {},
   "outputs": [],
   "source": [
    "def random_datum(size):\n",
    "    \n",
    "    slope = np.random.rand()\n",
    "    domain = np.random.rand(size)\n",
    "    variability = np.random.rand(size)/100\n",
    "    codomain = slope*domain + variability\n",
    "    \n",
    "    return domain, codomain, slope"
   ]
  },
  {
   "cell_type": "code",
   "execution_count": 67,
   "id": "94cbd0ac",
   "metadata": {},
   "outputs": [],
   "source": [
    "from scipy.stats import linregress"
   ]
  },
  {
   "cell_type": "code",
   "execution_count": 120,
   "id": "7c0ac392",
   "metadata": {},
   "outputs": [],
   "source": [
    "def generate_cost_data(no_I, no_P):\n",
    "\n",
    "    p_list = []\n",
    "    slope_list_p = []\n",
    "\n",
    "    for p in range(no_P):\n",
    "        i_list = []\n",
    "        slope_list_i = []\n",
    "\n",
    "        for i in range(no_I):\n",
    "            c_list = []\n",
    "            slope_list_c = []\n",
    "\n",
    "            for _ in range(3):\n",
    "                x, y, slope = random_datum(np.random.randint(3, 10))\n",
    "                c_list.append((x, y))\n",
    "                slope_list_c.append(slope)\n",
    "\n",
    "            i_list.append(c_list)\n",
    "            slope_list_i.append(slope_list_c)\n",
    "\n",
    "        p_list.append(i_list)\n",
    "        slope_list_p.append(slope_list_i)\n",
    "    \n",
    "    return p_list, np.array(slope_list_p)"
   ]
  },
  {
   "cell_type": "raw",
   "id": "9999164a",
   "metadata": {},
   "source": [
    "For this I want the data in this form\n",
    "\n",
    "1st is product, 2nd is factory, 3rd is the three costs, each cost has a list of tuple of x and y, where x is a list and y is also a list"
   ]
  },
  {
   "cell_type": "code",
   "execution_count": 131,
   "id": "d53e9ead",
   "metadata": {},
   "outputs": [],
   "source": [
    "def calculate_linear_regression(no_I, no_P, data):\n",
    "\n",
    "    calculated_slope = []\n",
    "    calculated_intercept = []\n",
    "    calculated_r_val = []\n",
    "\n",
    "    for p in range(no_P):\n",
    "        for i in range(no_I):\n",
    "            for c in range(3):\n",
    "                x, y = data[p][i][c]\n",
    "                lin_slope, lin_intercept, r_val, _, _ = linregress(x, y)\n",
    "                calculated_slope.append(lin_slope)\n",
    "                calculated_intercept.append(lin_intercept)\n",
    "                calculated_r_val.append(r_val)\n",
    "            \n",
    "    calculated_slope = np.array(calculated_slope).reshape(no_P, no_I, 3)\n",
    "    calculated_intercept = np.array(calculated_intercept).reshape(no_P, no_I, 3)\n",
    "    calculated_r_val = np.array(calculated_r_val).reshape(no_P, no_I, 3)\n",
    "    \n",
    "    return calculated_slope, calculated_intercept, calculated_r_val"
   ]
  },
  {
   "cell_type": "code",
   "execution_count": 132,
   "id": "ee488d88",
   "metadata": {},
   "outputs": [],
   "source": [
    "data, slope1 = generate_cost_data(no_I, no_P)"
   ]
  },
  {
   "cell_type": "code",
   "execution_count": 134,
   "id": "ca8e1540",
   "metadata": {},
   "outputs": [],
   "source": [
    "slope2, inter, r = calculate_linear_regression(no_I, no_P, data)"
   ]
  },
  {
   "cell_type": "code",
   "execution_count": 139,
   "id": "8b9c2a11",
   "metadata": {},
   "outputs": [
    {
     "data": {
      "text/plain": [
       "0.08572476432126108"
      ]
     },
     "execution_count": 139,
     "metadata": {},
     "output_type": "execute_result"
    }
   ],
   "source": [
    "np.sum(np.abs(slope1 - slope2))"
   ]
  },
  {
   "cell_type": "code",
   "execution_count": null,
   "id": "f16ffdc9",
   "metadata": {},
   "outputs": [],
   "source": []
  }
 ],
 "metadata": {
  "kernelspec": {
   "display_name": "Python 3",
   "language": "python",
   "name": "python3"
  },
  "language_info": {
   "codemirror_mode": {
    "name": "ipython",
    "version": 3
   },
   "file_extension": ".py",
   "mimetype": "text/x-python",
   "name": "python",
   "nbconvert_exporter": "python",
   "pygments_lexer": "ipython3",
   "version": "3.8.3"
  }
 },
 "nbformat": 4,
 "nbformat_minor": 5
}
