{
 "cells": [
  {
   "cell_type": "code",
   "execution_count": 3,
   "id": "23b29f18",
   "metadata": {},
   "outputs": [],
   "source": [
    "from tools import *"
   ]
  },
  {
   "cell_type": "markdown",
   "id": "5bea18f2",
   "metadata": {},
   "source": [
    "### Model 4a: Minimize Inbound and Outbound Logistics Constrained on Customer's Demand and Factory Capacity and Sufficient Supply (Multiple Ports) (Lossless Production)"
   ]
  },
  {
   "cell_type": "markdown",
   "id": "c4d4ee04",
   "metadata": {},
   "source": [
    "#### Input to the Model: \n",
    "\n",
    "1. Number of factories and customers and ports\n",
    "2. Outbound cost\n",
    "3. Demands\n",
    "4. Factory Capacity\n",
    "5. Inbound cost (each port to each factory)\n",
    "\n",
    "Because we have multiple ports, we can no longer just add the inbound cost in with the outbound cost. In fact, we have to keep separate inbound volume, and place an additional constraints called sufficient supply to make sure all the outbound volume are inbounded."
   ]
  },
  {
   "cell_type": "raw",
   "id": "deff0952",
   "metadata": {},
   "source": [
    "          Ports\n",
    "        0 1 2 3     \n",
    "ibik := 1 2 1 2 } Factory 0\n",
    "        1 1 3 5 } Factory 1\n",
    "\n",
    "         Customers\n",
    "        0 1 2 3 4 5\n",
    "obij := 5 2 3 4 6 7 } Factory 0\n",
    "        1 1 6 3 2 4 } Factory 1\n",
    "       \n",
    "c := ibi || obij (row_wise)\n",
    "\n",
    "The question now is whether we want to group by inbound / outbound or by factories. It is not entirely clear but I think we should go with the latter. Especially in our case, doing so allows us to quick reshape the objective vector by factory. I actually kinda like this form.\n",
    "\n",
    "      Ports      Customers \n",
    "     0 1 2 3 || 0 1 2 3 4 5    \n",
    "c := 1 2 1 2 || 5 2 3 4 6 7 } Factory 0\n",
    "     1 1 3 5 || 1 1 6 3 2 4 } Factory 1"
   ]
  },
  {
   "cell_type": "code",
   "execution_count": 123,
   "id": "0f19f199",
   "metadata": {},
   "outputs": [],
   "source": [
    "no_I, no_J, no_K = 3, 5, 2 # Number of factories, number of customers, number of ports\n",
    "\n",
    "ibik = np.random.rand(no_I, no_K) # Inbound Cost\n",
    "obij = np.random.rand(no_I, no_J) # Outbound Cost\n",
    "wj = np.random.rand(no_J) # Demands vector\n",
    "ki = np.random.rand(no_I) # Factory Capacity\n",
    "\n",
    "while np.sum(wj) >= np.sum(ki):\n",
    "    wj = np.random.rand(no_J) # Redo Demands vector\n",
    "    ki = np.random.rand(no_I) # Redo Factory Capacity"
   ]
  },
  {
   "cell_type": "raw",
   "id": "1ea47b1a",
   "metadata": {},
   "source": [
    "Now since we choose a different format, the demand matrix and capacity matrix will look different too.\n",
    "\n",
    "Demand Matrix\n",
    "\n",
    "0 0 0 0| 1 0 0 0 0 0 |0 0 0 0| 1 0 0 0 0 0\n",
    "0 0 0 0| 0 1 0 0 0 0 |0 0 0 0| 0 1 0 0 0 0\n",
    "0 0 0 0| 0 0 1 0 0 0 |0 0 0 0| 0 0 1 0 0 0\n",
    "0 0 0 0| 0 0 0 1 0 0 |0 0 0 0| 0 0 0 1 0 0\n",
    "0 0 0 0| 0 0 0 0 1 0 |0 0 0 0| 0 0 0 0 1 0\n",
    "0 0 0 0| 0 0 0 0 0 1 |0 0 0 0| 0 0 0 0 0 1\n",
    "\n",
    "Capacity Constraint Matrix\n",
    "\n",
    "0 0 0 0 | 1 1 1 1 1 1 | 0 0 0 0 | 0 0 0 0 0 0\n",
    "0 0 0 0 | 0 0 0 0 0 0 | 0 0 0 0 | 1 1 1 1 1 1"
   ]
  },
  {
   "cell_type": "code",
   "execution_count": 124,
   "id": "600549d3",
   "metadata": {},
   "outputs": [],
   "source": [
    "def generate_demand_matrix(no_I, no_J, no_K):\n",
    "    \n",
    "    Wijk = np.tile(np.hstack([np.zeros((no_J, no_K)), np.eye(no_J)]), reps = no_I)\n",
    "    \n",
    "    return Wijk\n",
    "\n",
    "def generate_capacity_matrix(no_I, no_J, no_K):\n",
    "    \n",
    "    factory_block_list = []\n",
    "\n",
    "    port_block = np.zeros((no_I, no_K))\n",
    "\n",
    "    for i in range(no_I):\n",
    "        customer_column = np.zeros((no_I, 1))\n",
    "        customer_column[i] = 1\n",
    "        customer_block = np.repeat(customer_column, repeats = no_J, axis = 1)\n",
    "        factory_block_list.append(np.hstack([port_block, customer_block]))\n",
    "\n",
    "    Ki = np.concatenate(factory_block_list, axis = 1)\n",
    "    \n",
    "    return Ki"
   ]
  },
  {
   "cell_type": "code",
   "execution_count": 125,
   "id": "cb994d3d",
   "metadata": {},
   "outputs": [],
   "source": [
    "## Assume non-trivial\n",
    "\n",
    "Wijk = generate_demand_matrix(no_I, no_J, no_K) # Demand Constraint Matrix\n",
    "Ki = generate_capacity_matrix(no_I, no_J, no_K) # Capacity Constraint Matrix"
   ]
  },
  {
   "cell_type": "raw",
   "id": "898deb3f",
   "metadata": {},
   "source": [
    "For the Sufficient Supply matrix, we would have |I| * (|J| + |K|) columns (one for each variable) and |I| rows (one for each factory). The equation governs this matrix is \n",
    "\n",
    "Out - In <= 0, you cannot get out more than you put in.\n",
    "\n",
    "          Ports to Factory         Customer from Factory\n",
    "          #0     |     #1             #0     |    #1\n",
    "      0  1  2  3 | 0  1  2  3 || 0 1 2 3 4 5 | 0 1 2 3 4 5\n",
    "S := -1 -1 -1 -1 | 0  0  0  0 || 1 1 1 1 1 1 | 0 0 0 0 0 0 } Factory 0\n",
    "      0  0  0  0 |-1 -1 -1 -1 || 0 0 0 0 0 0 | 1 1 1 1 1 1 } Factory 1\n",
    "      \n",
    "So for port, you start with a negative identity matrix with dimension |I|, then extend it by |K| times and for customer, you start with a positive identity matrix with dimension |I| and extend it by |J| times. The constraints vector will be the the zero vector with length |I|. So the sufficient supply matrix will look like this.\n",
    "\n",
    "Supply Constraint Matrix\n",
    "\n",
    "-1 -1 -1 -1 | 1 1 1 1 1 1 |  0  0  0  0 | 0 0 0 0 0 0\n",
    " 0  0  0  0 | 0 0 0 0 0 0 | -1 -1 -1 -1 | 1 1 1 1 1 1"
   ]
  },
  {
   "cell_type": "code",
   "execution_count": 1,
   "id": "f3a0f63f",
   "metadata": {},
   "outputs": [],
   "source": [
    "def generate_objective_vector(no_I, no_J, no_K, ibik, obij):\n",
    "    c = np.hstack([ibik.reshape(no_I, no_K), obij.reshape(no_I, no_J)]).flatten()\n",
    "    return c\n",
    "\n",
    "def generate_supply_matrix(no_I, no_J, no_K):\n",
    "    \n",
    "    factory_block_list = []\n",
    "\n",
    "    for i in range(no_I):\n",
    "        port_column, customer_column = np.zeros((no_I, 1)), np.zeros((no_I, 1))\n",
    "        port_column[i], customer_column[i] = -1, 1\n",
    "        \n",
    "        port_block = np.repeat(port_column, repeats = no_K, axis = 1)\n",
    "        customer_block = np.repeat(customer_column, repeats = no_J, axis = 1)\n",
    "        factory_block_list.append(np.hstack([port_block, customer_block]))\n",
    "\n",
    "    Si = np.concatenate(factory_block_list, axis = 1)\n",
    "    \n",
    "    return Si"
   ]
  },
  {
   "cell_type": "code",
   "execution_count": 130,
   "id": "b8cf8e28",
   "metadata": {},
   "outputs": [],
   "source": [
    "Si = generate_supply_matrix(no_I, no_J, no_K)"
   ]
  },
  {
   "cell_type": "code",
   "execution_count": 2,
   "id": "40dc28c3",
   "metadata": {
    "collapsed": true
   },
   "outputs": [
    {
     "ename": "NameError",
     "evalue": "name 'no_I' is not defined",
     "output_type": "error",
     "traceback": [
      "\u001b[0;31m---------------------------------------------------------------------------\u001b[0m",
      "\u001b[0;31mNameError\u001b[0m                                 Traceback (most recent call last)",
      "\u001b[0;32m<ipython-input-2-4025e7006996>\u001b[0m in \u001b[0;36m<module>\u001b[0;34m\u001b[0m\n\u001b[1;32m      2\u001b[0m \u001b[0;34m\u001b[0m\u001b[0m\n\u001b[1;32m      3\u001b[0m \u001b[0;31m# New cost vector\u001b[0m\u001b[0;34m\u001b[0m\u001b[0;34m\u001b[0m\u001b[0;34m\u001b[0m\u001b[0m\n\u001b[0;32m----> 4\u001b[0;31m \u001b[0mc\u001b[0m \u001b[0;34m=\u001b[0m \u001b[0mgenerate_objective_vector\u001b[0m\u001b[0;34m(\u001b[0m\u001b[0mno_I\u001b[0m\u001b[0;34m,\u001b[0m \u001b[0mno_J\u001b[0m\u001b[0;34m,\u001b[0m \u001b[0mno_K\u001b[0m\u001b[0;34m,\u001b[0m \u001b[0mibik\u001b[0m\u001b[0;34m,\u001b[0m \u001b[0mobij\u001b[0m\u001b[0;34m)\u001b[0m\u001b[0;34m\u001b[0m\u001b[0;34m\u001b[0m\u001b[0m\n\u001b[0m\u001b[1;32m      5\u001b[0m \u001b[0;34m\u001b[0m\u001b[0m\n\u001b[1;32m      6\u001b[0m \u001b[0;31m# Upper Bound\u001b[0m\u001b[0;34m\u001b[0m\u001b[0;34m\u001b[0m\u001b[0;34m\u001b[0m\u001b[0m\n",
      "\u001b[0;31mNameError\u001b[0m: name 'no_I' is not defined"
     ]
    }
   ],
   "source": [
    "## Standard form of our model\n",
    "\n",
    "# New cost vector\n",
    "c = generate_objective_vector(no_I, no_J, no_K, ibik, obij)\n",
    "\n",
    "# Upper Bound\n",
    "A_ub = np.vstack([-Wijk, Ki, Si])\n",
    "b_ub = np.hstack([-wj, ki, np.zeros(no_I)])\n",
    "\n",
    "prog_ub = linprog(c, A_ub = A_ub, b_ub = b_ub) # Bigger than or equal constraints"
   ]
  },
  {
   "cell_type": "code",
   "execution_count": 146,
   "id": "1160740b",
   "metadata": {},
   "outputs": [],
   "source": [
    "def optimize_logistics_4a(no_I, no_J, no_K, ibik, obij, wj, ki):\n",
    "    \n",
    "    ## Assume non-trivial\n",
    "    Wijk = generate_demand_matrix(no_I, no_J, no_K) # Demand Constraint Matrix\n",
    "    Ki = generate_capacity_matrix(no_I, no_J, no_K) # Capacity Constraint Matrix\n",
    "\n",
    "    # Sufficient Supply Matrix\n",
    "    # Shape is |I| * (|J| + |K|) columns (variables)\n",
    "    Si = generate_supply_matrix(no_I, no_J, no_K)\n",
    "\n",
    "    ## Standard form of our model\n",
    "\n",
    "    # New cost vector\n",
    "    c = np.hstack([ibik.reshape(no_I, no_K), obij.reshape(no_I, no_J)]).flatten()\n",
    "\n",
    "    # Upper Bound\n",
    "    A = np.vstack([-Wijk, Ki, Si])\n",
    "    b = np.hstack([-wj, ki, np.zeros(no_I)])\n",
    "\n",
    "    prog = linprog(c, A_ub = A, b_ub = b) # Bigger than or equal constraints\n",
    "\n",
    "    return prog"
   ]
  },
  {
   "cell_type": "code",
   "execution_count": 147,
   "id": "f793c439",
   "metadata": {},
   "outputs": [],
   "source": [
    "no_I, no_J, no_K = 3, 5, 2 # Number of factories, number of customers, number of ports\n",
    "\n",
    "ibik = np.random.rand(no_I, no_K) # Inbound Cost\n",
    "obij = np.random.rand(no_I, no_J) # Outbound Cost\n",
    "wj = np.random.rand(no_J) # Demands vector\n",
    "ki = np.random.rand(no_I) # Factory Capacity\n",
    "\n",
    "while np.sum(wj) >= np.sum(ki):\n",
    "    wj = np.random.rand(no_J) # Redo Demands vector\n",
    "    ki = np.random.rand(no_I) # Redo Factory Capacity\n",
    "    \n",
    "prog = optimize_logistics_4a(no_I, no_J, no_K, ibik, obij, wj, ki) # Results are all correct"
   ]
  },
  {
   "cell_type": "markdown",
   "id": "100be3a3",
   "metadata": {},
   "source": [
    "### Model 4b: Minimize Inbound and Outbound Logistics Constrained on Customer's Demand and Factory Capacity and Sufficient Supply (Multiple Ports) (Lossy Production)\n",
    "\n",
    "In the case of lossy production, we have a vector that defines the percentage loss per factory.\n",
    "\n",
    "#### Input to the Model: \n",
    "\n",
    "1. Number of factories and customers and ports\n",
    "2. Outbound cost\n",
    "3. Inbound cost (each port to each factory)\n",
    "4. Demands\n",
    "5. Factory Capacity\n",
    "6. Loss Percentage / Efficiency"
   ]
  },
  {
   "cell_type": "code",
   "execution_count": 215,
   "id": "c7bc5e28",
   "metadata": {},
   "outputs": [],
   "source": [
    "no_I, no_J, no_K = 3, 6, 2 # Number of factories, number of customers, number of ports\n",
    "\n",
    "ibik = np.random.rand(no_I, no_K) # Inbound Cost\n",
    "obij = np.random.rand(no_I, no_J) # Outbound Cost\n",
    "wj = np.random.rand(no_J) # Demands vector\n",
    "ki = np.random.rand(no_I) # Factory Capacity\n",
    "ei = np.random.rand(no_I) # Efficiency\n",
    "\n",
    "while np.sum(wj) >= np.sum(ki):\n",
    "    wj = np.random.rand(no_J) # Redo Demands vector\n",
    "    ki = np.random.rand(no_I) # Redo Factory Capacity"
   ]
  },
  {
   "cell_type": "code",
   "execution_count": 220,
   "id": "f3dc4baa",
   "metadata": {},
   "outputs": [],
   "source": [
    "## Assume non-trivial\n",
    "\n",
    "Wijk = generate_demand_matrix(no_I, no_J, no_K) # Demand Constraint Matrix\n",
    "Ki = generate_capacity_matrix(no_I, no_J, no_K) # Capacity Constraint Matrix"
   ]
  },
  {
   "cell_type": "raw",
   "id": "0d6c5e86",
   "metadata": {},
   "source": [
    "The efficiency coefficients takes effect in the sufficient supply constraints of the matrix. It gives the upper bound of the outbound volume as as a proportion of the outbound volume e_i In >= Out. This is equivalent with Out - e_i In <= 0 \n",
    "\n",
    "                      Ports to Factory                  Customer from Factory\n",
    "         #0                 |     #1                 ||     #0    |     #1\n",
    "      0     1     2     3   |  0     1     2     3   || 0 1 2 3 4 | 0 1 2 3 4\n",
    "S:= -0.93 -0.93 -0.93 -0.93 |  0     0     0     0   || 1 1 1 1 1 | 0 0 0 0 0 } Factory 0 \n",
    "      0     0     0     0   |-0.76 -0.76 -0.76 -0.76 || 0 0 0 0 0 | 1 1 1 1 1 } Factory 1 "
   ]
  },
  {
   "cell_type": "code",
   "execution_count": 222,
   "id": "3767208e",
   "metadata": {},
   "outputs": [],
   "source": [
    "def generate_supply_matrix_with_efficiency(no_I, no_J, no_K, ei):\n",
    "    \n",
    "    factory_block_list = []\n",
    "\n",
    "    for i in range(no_I):\n",
    "        port_column, customer_column = np.zeros((no_I, 1)), np.zeros((no_I, 1))\n",
    "        port_column[i], customer_column[i] = -ei[i], 1\n",
    "        \n",
    "        port_block = np.repeat(port_column, repeats = no_K, axis = 1)\n",
    "        customer_block = np.repeat(customer_column, repeats = no_J, axis = 1)\n",
    "        factory_block_list.append(np.hstack([port_block, customer_block]))\n",
    "\n",
    "    Si = np.concatenate(factory_block_list, axis = 1)\n",
    "    \n",
    "    return Si"
   ]
  },
  {
   "cell_type": "code",
   "execution_count": 224,
   "id": "b95d6032",
   "metadata": {},
   "outputs": [],
   "source": [
    "Si = generate_supply_matrix_with_efficiency(no_I, no_J, no_K, ei)\n",
    "\n",
    "## Standard form of our model\n",
    "\n",
    "# New cost vector\n",
    "c = np.hstack([ibik.reshape(no_I, no_K), obij.reshape(no_I, no_J)]).flatten()\n",
    "\n",
    "# Upper Bound\n",
    "A_ub = np.vstack([-Wijk, Ki, Si])\n",
    "b_ub = np.hstack([-wj, ki, np.zeros(no_I)])\n",
    "\n",
    "prog_ub = linprog(c, A_ub = A_ub, b_ub = b_ub) # Bigger than or equal constraints"
   ]
  },
  {
   "cell_type": "code",
   "execution_count": 227,
   "id": "445ba394",
   "metadata": {},
   "outputs": [
    {
     "data": {
      "text/latex": [
       "$\\displaystyle \\left[\\begin{matrix}8.96137332988318 \\cdot 10^{-10} & 1.83924478015982 & 9.56227259479553 \\cdot 10^{-10} & 0.246904507858376 & 2.76123286786584 \\cdot 10^{-9} & 0.0987984506807339 & 8.37660753923659 \\cdot 10^{-10} & 0.652317111439655\\\\3.2582845460748 \\cdot 10^{-10} & 1.57931813746033 & 3.61956716772363 \\cdot 10^{-10} & 0.638988129448889 & 0.00818964443333091 & 1.1883226390292 \\cdot 10^{-9} & 0.32199467741788 & 4.66163562387438 \\cdot 10^{-10}\\\\6.47879340119892 \\cdot 10^{-10} & 0.646447635695113 & 0.43394868265928 & 0.0982062539184325 & 6.34953356118594 \\cdot 10^{-11} & 6.2177694155299 \\cdot 10^{-10} & 7.96545143854714 \\cdot 10^{-9} & 1.02986567370328 \\cdot 10^{-9}\\end{matrix}\\right]$"
      ],
      "text/plain": [
       "Matrix([\n",
       "[8.96137332988318e-10,  1.83924478015982, 9.56227259479553e-10,  0.246904507858376,  2.76123286786584e-9,  0.0987984506807339, 8.37660753923659e-10,    0.652317111439655],\n",
       "[ 3.2582845460748e-10,  1.57931813746033, 3.61956716772363e-10,  0.638988129448889,  0.00818964443333091,  1.1883226390292e-9,     0.32199467741788, 4.66163562387438e-10],\n",
       "[6.47879340119892e-10, 0.646447635695113,     0.43394868265928, 0.0982062539184325, 6.34953356118594e-11, 6.2177694155299e-10,  7.96545143854714e-9,  1.02986567370328e-9]])"
      ]
     },
     "execution_count": 227,
     "metadata": {},
     "output_type": "execute_result"
    }
   ],
   "source": [
    "Matrix(prog_ub.x.reshape(no_I, no_J+no_K))"
   ]
  },
  {
   "cell_type": "code",
   "execution_count": 234,
   "id": "441e3cbc",
   "metadata": {},
   "outputs": [],
   "source": [
    "### Check demand\n",
    "aae(np.sum(prog_ub.x.reshape(no_I, no_J+no_K)[:, no_K:], axis = 0), wj)"
   ]
  },
  {
   "cell_type": "code",
   "execution_count": 236,
   "id": "220ae837",
   "metadata": {},
   "outputs": [
    {
     "data": {
      "text/plain": [
       "array([0.99802007, 0.96917245, 0.53215494])"
      ]
     },
     "execution_count": 236,
     "metadata": {},
     "output_type": "execute_result"
    }
   ],
   "source": [
    "### Check weighted inbound volume\n",
    "np.sum(prog_ub.x.reshape(no_I, no_J+no_K)[:, :no_K], axis = 1)*ei"
   ]
  },
  {
   "cell_type": "code",
   "execution_count": 238,
   "id": "af6c50b4",
   "metadata": {},
   "outputs": [
    {
     "data": {
      "text/plain": [
       "array([0.99802007, 0.96917245, 0.53215495])"
      ]
     },
     "execution_count": 238,
     "metadata": {},
     "output_type": "execute_result"
    }
   ],
   "source": [
    "### Check outbound volume\n",
    "np.sum(prog_ub.x.reshape(no_I, no_J+no_K)[:, no_K:], axis = 1)"
   ]
  },
  {
   "cell_type": "code",
   "execution_count": 240,
   "id": "aa13e582",
   "metadata": {},
   "outputs": [],
   "source": [
    "def optimize_logistics_4b(no_I, no_J, no_K, ibik, obij, wj, ki, ei):\n",
    "    \n",
    "    assert np.sum(ki) >= np.sum(wj), 'More Demand than Capacity. Program is Impossible'\n",
    "    \n",
    "    ## Assume non-trivial\n",
    "    Wijk = generate_demand_matrix(no_I, no_J, no_K) # Demand Constraint Matrix\n",
    "    Ki = generate_capacity_matrix(no_I, no_J, no_K) # Capacity Constraint Matrix\n",
    "    \n",
    "    # Sufficient Supply Matrix\n",
    "    Si = generate_supply_matrix_with_efficiency(no_I, no_J, no_K, ei)\n",
    "\n",
    "    ## Standard form of our model\n",
    "\n",
    "    # New cost vector\n",
    "    c = np.hstack([ibik.reshape(no_I, no_K), obij.reshape(no_I, no_J)]).flatten()\n",
    "\n",
    "    # Upper Bound\n",
    "    A_ub = np.vstack([-Wijk, Ki, Si])\n",
    "    b_ub = np.hstack([-wj, ki, np.zeros(no_I)])\n",
    "\n",
    "    prog = linprog(c, A_ub = A_ub, b_ub = b_ub) # Bigger than or equal constraints\n",
    "    \n",
    "    ### Check weighted inbound volume\n",
    "    Vin = np.sum(prog_ub.x.reshape(no_I, no_J+no_K)[:, :no_K], axis = 1)*ei\n",
    "    \n",
    "    ### Check outbound volume\n",
    "    Vout = np.sum(prog_ub.x.reshape(no_I, no_J+no_K)[:, no_K:], axis = 1)\n",
    "    \n",
    "    aae(Vin, Vout) # Check sufficient supply\n",
    "    \n",
    "    return prog"
   ]
  }
 ],
 "metadata": {
  "kernelspec": {
   "display_name": "Python 3",
   "language": "python",
   "name": "python3"
  },
  "language_info": {
   "codemirror_mode": {
    "name": "ipython",
    "version": 3
   },
   "file_extension": ".py",
   "mimetype": "text/x-python",
   "name": "python",
   "nbconvert_exporter": "python",
   "pygments_lexer": "ipython3",
   "version": "3.8.3"
  }
 },
 "nbformat": 4,
 "nbformat_minor": 5
}
