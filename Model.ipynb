{
 "cells": [
  {
   "cell_type": "code",
   "execution_count": 1,
   "id": "e6469f15",
   "metadata": {},
   "outputs": [],
   "source": [
    "import numpy as np\n",
    "\n",
    "import time\n",
    "\n",
    "import random\n",
    "\n",
    "from sympy import *"
   ]
  },
  {
   "cell_type": "markdown",
   "id": "d91503ab",
   "metadata": {},
   "source": [
    "# Inputs to the model"
   ]
  },
  {
   "cell_type": "code",
   "execution_count": 209,
   "id": "fd7b684c",
   "metadata": {},
   "outputs": [],
   "source": [
    "no_P = 3 # Number of products\n",
    "no_I = 3 # Number of factories \n",
    "no_J = 3 # Number of customers\n",
    "no_K = 3 # Number of ports\n",
    "\n",
    "I = list(range(no_I)) # List of all the factories (index)\n",
    "J = list(range(no_J)) # List of all the customers (index)\n",
    "K = list(range(no_K)) # List of all the ports (index)"
   ]
  },
  {
   "cell_type": "code",
   "execution_count": 210,
   "id": "1dfb89f4",
   "metadata": {},
   "outputs": [],
   "source": [
    "I_P = [sorted(random.sample(I, random.randint(1, len(I)))) for _ in range(no_P)]\n",
    "J_P = [sorted(random.sample(J, random.randint(1, len(J)))) for _ in range(no_P)]\n",
    "K_P = [sorted(random.sample(K, random.randint(1, len(K)))) for _ in range(no_P)]"
   ]
  },
  {
   "cell_type": "code",
   "execution_count": 211,
   "id": "e64631b2",
   "metadata": {},
   "outputs": [],
   "source": [
    "assert len(I_P) == no_P, 'Set I does not have the right amount of products'\n",
    "assert len(J_P) == no_P, 'Set J does not have the right amount of products'\n",
    "assert len(K_P) == no_P, 'Set K does not have the right amount of products'"
   ]
  },
  {
   "cell_type": "markdown",
   "id": "45153ddb",
   "metadata": {},
   "source": [
    "### Non-flatten approach"
   ]
  },
  {
   "cell_type": "code",
   "execution_count": 212,
   "id": "0fc5f4a9",
   "metadata": {},
   "outputs": [],
   "source": [
    "### All the coefficients inputs\n",
    "cpik, dij, lij, aij, bij, cpi, tpi, upi, wj= [], [], [], [], [], [], [], [], []\n",
    "for index in range(no_P):\n",
    "    cpik.append(np.random.rand(len(I_P[index]) * len(K_P[index]))) # Cost from port to factory\n",
    "    dij.append(np.random.rand(len(I_P[index]) * len(J_P[index]))) # Distance from factory to customer\n",
    "    lij.append(np.random.rand(len(I_P[index]) * len(J_P[index]))) # Distance of Constant Charge\n",
    "    aij.append(np.random.rand(len(I_P[index]) * len(J_P[index]))) # Amount of Constant Change\n",
    "    bij.append(np.random.rand(len(I_P[index]) * len(J_P[index]))) # Rate of charge per distance\n",
    "    cpi.append(np.random.rand(len(I_P[index]))) # Variable Cost\n",
    "    tpi.append(np.random.rand(len(I_P[index]))) # Time taken to produce one unit\n",
    "    upi.append(np.random.rand(len(I_P[index]))) # Proportion of mass loss\n",
    "    wj.append(np.random.rand(len(J_P[index]))) # Demand\n",
    "    \n",
    "Hi = np.random.rand(len(I)) # Total Production time"
   ]
  },
  {
   "cell_type": "code",
   "execution_count": 264,
   "id": "6beb0036",
   "metadata": {},
   "outputs": [],
   "source": [
    "def generate_objective_vector(no_P, dij, lij, aij, bij, cpi, cpik):\n",
    "    \n",
    "    ### Processing to get the objective function\n",
    "    # c = cpik || (cpij + cpi)\n",
    "    # We need to calculate cpij\n",
    "\n",
    "    ### Distance Cost Function cij = max(0, b_ij(d-l)_ij) + aij\n",
    "    distance_cost = lambda d, l, a, b: np.maximum(0, b*(d-l)) + a\n",
    "\n",
    "    cpij = []\n",
    "\n",
    "    for p in range(no_P):\n",
    "\n",
    "        cpij.append(distance_cost(dij[p], lij[p], aij[p], bij[p]))\n",
    "\n",
    "    ### Broadcast sum for adding together vectors with multple length\n",
    "    broadcast_sum = lambda a, b: [a[i] + b[i] for i in range(len(b))]\n",
    "\n",
    "    sum_cpij_cpi = []\n",
    "\n",
    "    for p in range(no_P):\n",
    "        sum_cpij_cpi.append(broadcast_sum(np.split(cpij[p], len(cpi[p])), cpi[p]))\n",
    "\n",
    "    left = np.concatenate(cpik) # This is the cpik\n",
    "    right = np.concatenate([np.concatenate(elem) for elem in sum_cpij_cpi]) # This is the cpi\n",
    "\n",
    "    ### Create one long vector c\n",
    "    c = np.concatenate((left, right))\n",
    "    \n",
    "    return c"
   ]
  },
  {
   "cell_type": "markdown",
   "id": "ae240f38",
   "metadata": {},
   "source": [
    "### Constraints"
   ]
  },
  {
   "cell_type": "markdown",
   "id": "17725747",
   "metadata": {},
   "source": [
    "#### 1. Demand Satisfaction"
   ]
  },
  {
   "cell_type": "raw",
   "id": "f5348651",
   "metadata": {},
   "source": [
    "First, we create the skeleton filled with zero, then for each contraints, we fill it with one\n",
    "\n",
    "Because we index over j first then i, we have to reshape each cpij[p] to (|I_p|, |J_p|). Then we just slice down the columns and make those 1s."
   ]
  },
  {
   "cell_type": "code",
   "execution_count": 220,
   "id": "f5efae2a",
   "metadata": {},
   "outputs": [],
   "source": [
    "def create_skeleton(cpik, cpij):\n",
    "    \n",
    "    # This just replace all the elemnts with 0, whether to reshape or concatenate will be decided later onz\n",
    "    left = [np.zeros(elem.shape) for elem in cpik]\n",
    "    right = [np.zeros(elem.shape) for elem in cpij]\n",
    "    \n",
    "    return left, right"
   ]
  },
  {
   "cell_type": "code",
   "execution_count": 221,
   "id": "7efe3856",
   "metadata": {},
   "outputs": [],
   "source": [
    "len_IP = np.array([len(elem) for elem in I_P])\n",
    "len_JP = np.array([len(elem) for elem in J_P])\n",
    "len_KP = np.array([len(elem) for elem in K_P])"
   ]
  },
  {
   "cell_type": "code",
   "execution_count": 222,
   "id": "efe92599",
   "metadata": {},
   "outputs": [],
   "source": [
    "left, right = create_skeleton(cpik, cpij)\n",
    "\n",
    "reshape_left = []\n",
    "\n",
    "for index, product in enumerate(left):\n",
    "    reshape_left.append(product.reshape(  len_IP[index], len_KP[index] ) ) #(|I_p|, |K_p|)\n",
    "\n",
    "reshape_right = []\n",
    "\n",
    "for index, product in enumerate(right):\n",
    "    reshape_right.append(product.reshape(  len_IP[index], len_JP[index]) ) #(|I_p|, |J_p|)"
   ]
  },
  {
   "cell_type": "code",
   "execution_count": 223,
   "id": "a34e83ac",
   "metadata": {},
   "outputs": [],
   "source": [
    "copy_list = lambda mat_list: [np.copy(elem) for elem in mat_list]"
   ]
  },
  {
   "cell_type": "code",
   "execution_count": 224,
   "id": "600b989d",
   "metadata": {},
   "outputs": [],
   "source": [
    "### Maybe in the future optimize this?\n",
    "zeroed_left = np.zeros((np.sum(len_JP), np.sum(len_IP*len_KP)))\n",
    "\n",
    "ones_right = []\n",
    "\n",
    "for p in range(no_P):\n",
    "    \n",
    "    ones_right_P = []\n",
    "    for j_index in range(len(J_P[p])):\n",
    "        row = copy_list(reshape_right) # Copy the empty matrix\n",
    "\n",
    "        ## Check that the slice is equal to the number of factories\n",
    "        assert len(row[p][:, j_index]) == len(I_P[p])\n",
    "\n",
    "        row[p][:, j_index] = -1 # Negative to minimize\n",
    "        \n",
    "        matrix_row = np.concatenate([np.concatenate(elem) for elem in row])\n",
    "\n",
    "        ones_right_P.append(matrix_row)\n",
    "        \n",
    "    ones_right.append(ones_right_P)\n",
    "    \n",
    "### This still need the zero block\n",
    "ones_right = np.concatenate(ones_right)\n",
    "demand_matrix = np.concatenate((zeroed_left, ones_right), axis = 1) \n",
    "wj_final = -np.concatenate(wj) # Negative to minimize\n",
    "\n",
    "assert demand_matrix.shape == (len(wj_final), len(c)), 'Demand Matrix not of the Correct shape'"
   ]
  },
  {
   "cell_type": "markdown",
   "id": "61d31ff2",
   "metadata": {},
   "source": [
    "#### 2. Factory Capacity"
   ]
  },
  {
   "cell_type": "code",
   "execution_count": 225,
   "id": "f9147a08",
   "metadata": {},
   "outputs": [],
   "source": [
    "def get_factory_product_list(I, I_P):\n",
    "\n",
    "    # For each factory which product does it produce, and the position of the factory in the I_P list\n",
    "    factory_product_list = []\n",
    "\n",
    "    for factory in I:\n",
    "\n",
    "        factory_product = []\n",
    "        for product in I_P:\n",
    "            if factory in product:\n",
    "                factory_product.append(product.index(factory))\n",
    "            else:\n",
    "                factory_product.append(None)\n",
    "\n",
    "        factory_product_list.append(factory_product)\n",
    "        \n",
    "    return factory_product_list"
   ]
  },
  {
   "cell_type": "code",
   "execution_count": 226,
   "id": "e62be3dd",
   "metadata": {},
   "outputs": [],
   "source": [
    "factory_product_list = get_factory_product_list(I, I_P)"
   ]
  },
  {
   "cell_type": "code",
   "execution_count": 227,
   "id": "49239355",
   "metadata": {},
   "outputs": [],
   "source": [
    "zeroed_left = np.zeros((len(I), np.sum(len_IP*len_KP)))\n",
    "\n",
    "ones_right = []\n",
    "\n",
    "for factory_index_list in factory_product_list:\n",
    "    row = copy_list(reshape_right)\n",
    "\n",
    "    for p, i in enumerate(factory_index_list):\n",
    "        \n",
    "        if i is None:\n",
    "            pass\n",
    "        else:\n",
    "            row[p][i] = tpi[p][i]\n",
    "            \n",
    "    matrix_row = np.concatenate([np.concatenate(elem) for elem in row])\n",
    "    ones_right.append(matrix_row)\n",
    "    \n",
    "capacity_matrix = np.hstack((zeroed_left, np.vstack(ones_right)))\n",
    "\n",
    "assert capacity_matrix.shape == (len(I), len(c)), 'Demand Matrix not of the Correct shape'"
   ]
  },
  {
   "cell_type": "markdown",
   "id": "7a3122c7",
   "metadata": {},
   "source": [
    "#### 3. Sufficient Supply"
   ]
  },
  {
   "cell_type": "markdown",
   "id": "5f7f9cbf",
   "metadata": {},
   "source": [
    "$$V_{p, i}^{\\text{out}} - \\mu_{p, i}V_{p, i}^{\\text{in}} \\leq 0 $$\n",
    "\n",
    "$$\\sum_{k \\in K_p} v_{ik} - \\mu_{p, i}\\sum_{j \\in J_p} v_{ij}$$"
   ]
  },
  {
   "cell_type": "code",
   "execution_count": 228,
   "id": "33264b1f",
   "metadata": {},
   "outputs": [],
   "source": [
    "def get_port_product_list(K, K_P):\n",
    "\n",
    "    # For each port which product comes from it, and the position of the port in the K_P list\n",
    "    port_product_list = []\n",
    "\n",
    "    for port in K:\n",
    "\n",
    "        port_product = []\n",
    "        for product in K_P:\n",
    "            if port in product:\n",
    "                port_product.append(product.index(port))\n",
    "            else:\n",
    "                port_product.append(None)\n",
    "\n",
    "        port_product_list.append(port_product)\n",
    "        \n",
    "    return port_product_list\n",
    "\n",
    "port_product_list = get_port_product_list(K, K_P)"
   ]
  },
  {
   "cell_type": "code",
   "execution_count": 229,
   "id": "b43096f4",
   "metadata": {},
   "outputs": [],
   "source": [
    "matrix_row = []\n",
    "for p in range(no_P):\n",
    "    for i in range(len_IP[p]):\n",
    "        left_row = copy_list(reshape_left)\n",
    "        right_row = copy_list(reshape_right)\n",
    "        \n",
    "        left_row[p][i] = -upi[p][i]\n",
    "        right_row[p][i] = 1\n",
    "        \n",
    "        left_row = [np.concatenate(elem) for elem in left_row]\n",
    "        right_row = [np.concatenate(elem) for elem in right_row]\n",
    "        matrix_row.append(np.concatenate(left_row + right_row))\n",
    "        \n",
    "supply_matrix = np.vstack(matrix_row)\n",
    "\n",
    "assert supply_matrix.shape == (sum(len_IP), len(c)), 'Supply Matrix not of the Correct shape'"
   ]
  },
  {
   "cell_type": "code",
   "execution_count": 230,
   "id": "a245b158",
   "metadata": {},
   "outputs": [],
   "source": [
    "A = np.vstack((demand_matrix, capacity_matrix, supply_matrix))\n",
    "\n",
    "b = np.concatenate([wj_final, Hi, np.zeros((sum(len_IP)))])"
   ]
  },
  {
   "cell_type": "code",
   "execution_count": 246,
   "id": "a0ea85cf",
   "metadata": {},
   "outputs": [],
   "source": [
    "A = np.vstack((demand_matrix, capacity_matrix))\n",
    "b = np.concatenate([wj_final, Hi])"
   ]
  },
  {
   "cell_type": "code",
   "execution_count": 247,
   "id": "eb9f6196",
   "metadata": {},
   "outputs": [],
   "source": [
    "from scipy.optimize import linprog"
   ]
  },
  {
   "cell_type": "code",
   "execution_count": 248,
   "id": "d27c2ddd",
   "metadata": {},
   "outputs": [],
   "source": [
    "linprog?"
   ]
  },
  {
   "cell_type": "code",
   "execution_count": 268,
   "id": "fed7d565",
   "metadata": {},
   "outputs": [
    {
     "data": {
      "text/plain": [
       "array([-0.84766375, -0.88189947, -0.27096431, -0.16578414, -0.92606573,\n",
       "        0.33999578,  0.8683442 ,  0.92901821])"
      ]
     },
     "execution_count": 268,
     "metadata": {},
     "output_type": "execute_result"
    }
   ],
   "source": [
    "b"
   ]
  },
  {
   "cell_type": "code",
   "execution_count": 262,
   "id": "cfddab25",
   "metadata": {},
   "outputs": [
    {
     "data": {
      "text/plain": [
       "     con: array([], dtype=float64)\n",
       "     fun: 5.162826914338323\n",
       " message: 'The algorithm terminated successfully and determined that the problem is infeasible.'\n",
       "     nit: 5\n",
       "   slack: array([ 0.09909145,  0.98496101,  0.00679311,  1.02228076,  0.20124197,\n",
       "       -0.58471213, -0.02283008])\n",
       "  status: 2\n",
       " success: False\n",
       "       x: array([0.        , 0.        , 0.        , 0.        , 0.9467552 ,\n",
       "       1.86686048, 0.27775741, 1.1880649 , 1.1273077 ])"
      ]
     },
     "execution_count": 262,
     "metadata": {},
     "output_type": "execute_result"
    }
   ],
   "source": [
    "linprog(c, A_ub = A[:-1], b_ub = b[:-1], options = {'maxiter': 100})"
   ]
  }
 ],
 "metadata": {
  "kernelspec": {
   "display_name": "Python 3 (ipykernel)",
   "language": "python",
   "name": "python3"
  },
  "language_info": {
   "codemirror_mode": {
    "name": "ipython",
    "version": 3
   },
   "file_extension": ".py",
   "mimetype": "text/x-python",
   "name": "python",
   "nbconvert_exporter": "python",
   "pygments_lexer": "ipython3",
   "version": "3.9.7"
  }
 },
 "nbformat": 4,
 "nbformat_minor": 5
}
