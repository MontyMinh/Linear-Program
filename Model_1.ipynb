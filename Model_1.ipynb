{
 "cells": [
  {
   "cell_type": "code",
   "execution_count": 11,
   "id": "e348c0b2",
   "metadata": {},
   "outputs": [],
   "source": [
    "from tools import *"
   ]
  },
  {
   "cell_type": "markdown",
   "id": "91c613bd",
   "metadata": {},
   "source": [
    "### Model 1: Minimize Cost Constrained on Customer's Demand"
   ]
  },
  {
   "cell_type": "markdown",
   "id": "64ffd2dd",
   "metadata": {},
   "source": [
    "#### Input to the Model: \n",
    "\n",
    "1. Number of factories and customers\n",
    "2. Cost vector -> Objective vector\n",
    "3. Demands vector"
   ]
  },
  {
   "cell_type": "code",
   "execution_count": 12,
   "id": "950da26c",
   "metadata": {},
   "outputs": [],
   "source": [
    "no_I, no_J = 2, 5 # Number of factories, number of customers\n",
    "\n",
    "cij = np.random.rand(no_I, no_J) # Cost vector\n",
    "wj = np.random.rand(no_J) # Demands vector"
   ]
  },
  {
   "cell_type": "markdown",
   "id": "4323437d",
   "metadata": {},
   "source": [
    "#### Processing"
   ]
  },
  {
   "cell_type": "code",
   "execution_count": 13,
   "id": "28f91e91",
   "metadata": {},
   "outputs": [],
   "source": [
    "Wij = np.hstack([np.eye(no_J)]*no_I) # Demand Constraint Matrix\n",
    "\n",
    "## Standard form of our model\n",
    "\n",
    "c = cij.flatten()\n",
    "A = -Wij\n",
    "b = -wj"
   ]
  },
  {
   "cell_type": "markdown",
   "id": "73203fc2",
   "metadata": {},
   "source": [
    "#### Run optimization"
   ]
  },
  {
   "cell_type": "code",
   "execution_count": 14,
   "id": "89efdce2",
   "metadata": {},
   "outputs": [],
   "source": [
    "prog_ub = linprog(c, A_ub = A, b_ub = b) # Bigger than or equal constraints\n",
    "prog_eq = linprog(c, A_eq = A, b_eq = b) # Equal constraints"
   ]
  },
  {
   "cell_type": "markdown",
   "id": "5d948b43",
   "metadata": {},
   "source": [
    "#### Compare the two"
   ]
  },
  {
   "cell_type": "code",
   "execution_count": 15,
   "id": "d8434294",
   "metadata": {},
   "outputs": [],
   "source": [
    "aae(prog_ub.x, prog_eq.x) # They are in fact the same"
   ]
  },
  {
   "cell_type": "markdown",
   "id": "b4ca2c5c",
   "metadata": {},
   "source": [
    "#### Modular Code"
   ]
  },
  {
   "cell_type": "code",
   "execution_count": 16,
   "id": "02ae566b",
   "metadata": {},
   "outputs": [],
   "source": [
    "def optimize_logistic_1(no_I, no_J, cij, wj):\n",
    "    \n",
    "    Wij = np.hstack([np.eye(no_J)]*no_I) # Demand Constraint Matrix\n",
    "\n",
    "    ## Standard form of our model\n",
    "\n",
    "    c = cij.flatten()\n",
    "    A = -Wij # Negate to transform the equation to ≤\n",
    "    b = -wj # Negate to transform the equation to ≤\n",
    "    \n",
    "    ## Run Optimization\n",
    "    \n",
    "    prog = linprog(c, A_ub = A, b_ub = b) # Bigger than or equal constraints\n",
    "    \n",
    "    return prog"
   ]
  }
 ],
 "metadata": {
  "kernelspec": {
   "display_name": "Python 3",
   "language": "python",
   "name": "python3"
  },
  "language_info": {
   "codemirror_mode": {
    "name": "ipython",
    "version": 3
   },
   "file_extension": ".py",
   "mimetype": "text/x-python",
   "name": "python",
   "nbconvert_exporter": "python",
   "pygments_lexer": "ipython3",
   "version": "3.8.3"
  }
 },
 "nbformat": 4,
 "nbformat_minor": 5
}
