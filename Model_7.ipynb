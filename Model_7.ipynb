{
 "cells": [
  {
   "cell_type": "code",
   "execution_count": 1,
   "id": "759c557c",
   "metadata": {},
   "outputs": [],
   "source": [
    "from tools import *"
   ]
  },
  {
   "cell_type": "markdown",
   "id": "ea13de80",
   "metadata": {},
   "source": [
    "### Model 7: Minimize Inbound and Outbound Logistics Constrained on Customer's Demand and Factory Capacity and Sufficient Supply (Multiple Ports) (Lossy Production) (Multiple Products) (Variable Product Capacity) (Variable Production Cost)"
   ]
  },
  {
   "cell_type": "markdown",
   "id": "c89734eb",
   "metadata": {},
   "source": [
    "For the variable production cost, we simply add an additional charge on the outbound cost of the customer. More specifically, $\\tilde{c}_{p, i} + c_{p, ij}$"
   ]
  },
  {
   "cell_type": "markdown",
   "id": "b465efc8",
   "metadata": {},
   "source": [
    "#### Input to the Model: \n",
    "\n",
    "1. Number of factories and customers and ports and products\n",
    "2. Outbound cost (times the number of products)\n",
    "3. Variable Production Cost (times the number of factory)\n",
    "4. Inbound cost (each port to each factory) (times the number of products)\n",
    "5. Demands (times the number of products)\n",
    "6. Factory Capacity (Variable)\n",
    "7. Loss Percentage / Efficiency (Variable)"
   ]
  },
  {
   "cell_type": "code",
   "execution_count": 2,
   "id": "b5772706",
   "metadata": {},
   "outputs": [],
   "source": [
    "no_I, no_J, no_K, no_P = 4, 5, 3, 2 # Number of factories, number of customers, number of ports\n",
    "\n",
    "ibik = np.random.rand(no_P, no_I, no_K) # Inbound Cost\n",
    "obij = np.random.rand(no_P, no_I, no_J) # Outbound Cost\n",
    "vci = np.random.rand(no_P, no_I) # Variable Production Cost\n",
    "wj = np.random.rand(no_P, no_J) # Demands vector\n",
    "ki = np.random.rand(no_I) # Factory Capacity\n",
    "ei = np.random.rand(no_P, no_I) # Efficiency If by-product: row same, by-factory: column same\n",
    "ti = np.random.rand(no_P, no_I) # Time per product per factory\n",
    "\n",
    "while np.sum(wj) >= np.sum(ki):\n",
    "    wj = np.random.rand(no_P, no_J) # Redo Demands vector\n",
    "    ki = np.random.rand(no_I) # Redo Factory Capacity"
   ]
  },
  {
   "cell_type": "code",
   "execution_count": 3,
   "id": "9605dc40",
   "metadata": {},
   "outputs": [],
   "source": [
    "def generate_objective_vector(no_I, no_J, no_K, no_P, ibik, obij, vci):\n",
    "    vci = np.tile(vci.reshape(no_P, no_I, 1), reps = no_J)\n",
    "    c = np.concatenate([ibik.reshape(no_P, no_I, no_K), \n",
    "                        (obij+vci).reshape(no_P, no_I, no_J)], axis = 2).flatten()\n",
    "    return c"
   ]
  },
  {
   "cell_type": "code",
   "execution_count": 4,
   "id": "d5a6d587",
   "metadata": {},
   "outputs": [],
   "source": [
    "def generate_demand_matrix(no_I, no_J, no_K, no_P):\n",
    "    \n",
    "    sub_block = np.tile(np.hstack([np.zeros((no_J, no_K)), np.eye(no_J)]), reps = no_I)\n",
    "    \n",
    "    Wijk = block_diag(*[sub_block]*no_P)\n",
    "    \n",
    "    return Wijk"
   ]
  },
  {
   "cell_type": "code",
   "execution_count": 5,
   "id": "490d2be6",
   "metadata": {},
   "outputs": [],
   "source": [
    "def generate_capacity_matrix(no_I, no_J, no_K, no_P, ti):\n",
    "\n",
    "    product_block_list = []\n",
    "    for p in range(no_P):\n",
    "        \n",
    "        factory_block_list = []\n",
    "        port_block = np.zeros((no_I, no_K))\n",
    "        for i in range(no_I):\n",
    "            customer_column = np.zeros((no_I, 1))\n",
    "            customer_column[i] = ti[p][i]\n",
    "            customer_block = np.repeat(customer_column, repeats = no_J, axis = 1)\n",
    "            factory_block_list.append(np.hstack([port_block, customer_block]))\n",
    "            \n",
    "        product_block_list += factory_block_list\n",
    "\n",
    "    Ki = np.concatenate(product_block_list, axis = 1)\n",
    "    \n",
    "    return Ki"
   ]
  },
  {
   "cell_type": "code",
   "execution_count": 6,
   "id": "11fff3d8",
   "metadata": {},
   "outputs": [],
   "source": [
    "def generate_supply_matrix_with_efficiency(no_I, no_J, no_K, no_P, ei):\n",
    "\n",
    "    left = np.tile(-ei.reshape(no_P*no_I, 1), reps = no_K)\n",
    "\n",
    "    right = np.ones((no_P*no_I, no_J))\n",
    "\n",
    "    Si = block_diag(*np.hstack([left, right]))\n",
    "    \n",
    "    return Si"
   ]
  },
  {
   "cell_type": "code",
   "execution_count": 7,
   "id": "a2654b3d",
   "metadata": {},
   "outputs": [],
   "source": [
    "def optimize_logistics_7(no_I, no_J, no_K, ibik, obij, vci, wj, ki, ei, ti):\n",
    "    \n",
    "    assert np.sum(ki) >= np.sum(wj), 'More Demand than Capacity. Program is Impossible'\n",
    "\n",
    "    ### Standard form of our model\n",
    "    ## Assume non-trivial\n",
    "    Wijk = generate_demand_matrix(no_I, no_J, no_K, no_P) # Demand Constraint Matrix\n",
    "    Ki = generate_capacity_matrix(no_I, no_J, no_K, no_P, ti) # Capacity Constraint Matrix\n",
    "\n",
    "    # Sufficient Supply Matrix\n",
    "    Si = generate_supply_matrix_with_efficiency(no_I, no_J, no_K, no_P, ei)\n",
    "\n",
    "    # New cost vector\n",
    "    c = generate_objective_vector(no_I, no_J, no_K, no_P, ibik, obij, vci)\n",
    "\n",
    "    # Upper Bound\n",
    "    A_ub = np.vstack([-Wijk, Ki, Si])\n",
    "    b_ub = np.hstack([-wj.flatten(), ki.flatten(), np.zeros(no_I*no_P)])\n",
    "\n",
    "    prog = linprog(c, A_ub = A_ub, b_ub = b_ub) # Bigger than or equal constraints\n",
    "\n",
    "    result = prog.x.reshape(no_P, no_I, no_J+no_K)\n",
    "    \n",
    "    ### Check demand, note that the axis = 1 the array is 3d\n",
    "    aae(np.sum(result[:, :, no_K:], axis = 1), wj)\n",
    "\n",
    "    ### Check weighted inbound volume vs outbound volume\n",
    "    aae(np.sum(result[:, :, :no_K], axis = 2)*ei, np.sum(result[:, :, no_K:], axis = 2))\n",
    "    \n",
    "    return prog"
   ]
  },
  {
   "cell_type": "code",
   "execution_count": 8,
   "id": "a6388dd5",
   "metadata": {},
   "outputs": [],
   "source": [
    "prog = optimize_logistics_7(no_I, no_J, no_K, ibik, obij, vci, wj, ki, ei, ti)"
   ]
  },
  {
   "cell_type": "code",
   "execution_count": 11,
   "id": "daf46c60",
   "metadata": {},
   "outputs": [],
   "source": [
    "assert np.sum(ki) >= np.sum(wj), 'More Demand than Capacity. Program is Impossible'\n",
    "\n",
    "### Standard form of our model\n",
    "## Assume non-trivial\n",
    "Wijk = generate_demand_matrix(no_I, no_J, no_K, no_P) # Demand Constraint Matrix\n",
    "Ki = generate_capacity_matrix(no_I, no_J, no_K, no_P, ti) # Capacity Constraint Matrix\n",
    "\n",
    "# Sufficient Supply Matrix\n",
    "Si = generate_supply_matrix_with_efficiency(no_I, no_J, no_K, no_P, ei)\n",
    "\n",
    "# New cost vector\n",
    "c = generate_objective_vector(no_I, no_J, no_K, no_P, ibik, obij, vci)\n",
    "\n",
    "# Upper Bound\n",
    "A_ub = np.vstack([-Wijk, Ki, Si])\n",
    "b_ub = np.hstack([-wj.flatten(), ki.flatten(), np.zeros(no_I*no_P)])\n",
    "\n",
    "prog = linprog(c, A_ub = A_ub, b_ub = b_ub) # Bigger than or equal constraints\n",
    "\n",
    "result = prog.x.reshape(no_P, no_I, no_J+no_K)\n",
    "\n",
    "### Check demand, note that the axis = 1 the array is 3d\n",
    "aae(np.sum(result[:, :, no_K:], axis = 1), wj)\n",
    "\n",
    "### Check weighted inbound volume vs outbound volume\n",
    "aae(np.sum(result[:, :, :no_K], axis = 2)*ei, np.sum(result[:, :, no_K:], axis = 2))"
   ]
  },
  {
   "cell_type": "code",
   "execution_count": 15,
   "id": "49b94199",
   "metadata": {},
   "outputs": [
    {
     "data": {
      "text/plain": [
       "1408"
      ]
     },
     "execution_count": 15,
     "metadata": {},
     "output_type": "execute_result"
    }
   ],
   "source": [
    "A_ub.size"
   ]
  },
  {
   "cell_type": "code",
   "execution_count": 23,
   "id": "7dbe8a8b",
   "metadata": {},
   "outputs": [
    {
     "data": {
      "text/plain": [
       "0.10227272727272728"
      ]
     },
     "execution_count": 23,
     "metadata": {},
     "output_type": "execute_result"
    }
   ],
   "source": [
    "np.nonzero(A_ub)[0].size / A_ub.size"
   ]
  },
  {
   "cell_type": "code",
   "execution_count": null,
   "id": "364baf34",
   "metadata": {},
   "outputs": [],
   "source": []
  }
 ],
 "metadata": {
  "kernelspec": {
   "display_name": "Python 3",
   "language": "python",
   "name": "python3"
  },
  "language_info": {
   "codemirror_mode": {
    "name": "ipython",
    "version": 3
   },
   "file_extension": ".py",
   "mimetype": "text/x-python",
   "name": "python",
   "nbconvert_exporter": "python",
   "pygments_lexer": "ipython3",
   "version": "3.8.3"
  }
 },
 "nbformat": 4,
 "nbformat_minor": 5
}
